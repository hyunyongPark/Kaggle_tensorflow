{
 "cells": [
  {
   "cell_type": "markdown",
   "id": "74300c01",
   "metadata": {
    "papermill": {
     "duration": 0.042915,
     "end_time": "2022-01-18T14:07:16.653937",
     "exception": false,
     "start_time": "2022-01-18T14:07:16.611022",
     "status": "completed"
    },
    "tags": []
   },
   "source": [
    "# [Tensorflow - Help Protect the Great Barrier Reef]"
   ]
  },
  {
   "cell_type": "markdown",
   "id": "deeff2e2",
   "metadata": {
    "papermill": {
     "duration": 0.041418,
     "end_time": "2022-01-18T14:07:34.754905",
     "exception": false,
     "start_time": "2022-01-18T14:07:34.713487",
     "status": "completed"
    },
    "tags": []
   },
   "source": [
    "# Import Libraries"
   ]
  },
  {
   "cell_type": "code",
   "execution_count": 1,
   "id": "3bc46b6f",
   "metadata": {
    "_cell_guid": "b1076dfc-b9ad-4769-8c92-a6c4dae69d19",
    "_uuid": "8f2839f25d086af736a60e9eeb907d3b93b6e0e5",
    "execution": {
     "iopub.execute_input": "2022-01-18T14:07:34.845692Z",
     "iopub.status.busy": "2022-01-18T14:07:34.844832Z",
     "iopub.status.idle": "2022-01-18T14:07:35.105867Z",
     "shell.execute_reply": "2022-01-18T14:07:35.105404Z",
     "shell.execute_reply.started": "2022-01-18T13:51:35.842781Z"
    },
    "papermill": {
     "duration": 0.30836,
     "end_time": "2022-01-18T14:07:35.106006",
     "exception": false,
     "start_time": "2022-01-18T14:07:34.797646",
     "status": "completed"
    },
    "tags": []
   },
   "outputs": [],
   "source": [
    "import numpy as np\n",
    "from tqdm.notebook import tqdm\n",
    "tqdm.pandas()\n",
    "import pandas as pd\n",
    "import os\n",
    "import cv2\n",
    "import matplotlib.pyplot as plt\n",
    "import glob\n",
    "\n",
    "import shutil\n",
    "import sys\n",
    "sys.path.append('../data')\n",
    "\n",
    "from joblib import Parallel, delayed\n",
    "\n",
    "from IPython.display import display"
   ]
  },
  {
   "cell_type": "code",
   "execution_count": 2,
   "id": "20ece059",
   "metadata": {},
   "outputs": [
    {
     "name": "stderr",
     "output_type": "stream",
     "text": [
      "Failed to detect the name of this notebook, you can set it manually with the WANDB_NOTEBOOK_NAME environment variable to enable code saving.\n",
      "\u001b[34m\u001b[1mwandb\u001b[0m: Currently logged in as: \u001b[33myphy\u001b[0m (use `wandb login --relogin` to force relogin)\n"
     ]
    },
    {
     "name": "stdout",
     "output_type": "stream",
     "text": [
      "To use your W&B account,\n",
      "Go to Add-ons -> Secrets and provide your W&B access token. Use the Label name as WANDB. \n",
      "Get your W&B access token from here: https://wandb.ai/authorize\n"
     ]
    }
   ],
   "source": [
    "import wandb\n",
    "\n",
    "try:\n",
    "    from kaggle_secrets import UserSecretsClient\n",
    "    user_secrets = UserSecretsClient()\n",
    "    api_key = user_secrets.get_secret(\"WANDB\")\n",
    "    wandb.login(key='b4d6bb52d1e0804563e845703788199f6ed67350')\n",
    "    anonymous = None\n",
    "except:\n",
    "    wandb.login(anonymous='must')\n",
    "    print('To use your W&B account,\\nGo to Add-ons -> Secrets and provide your W&B access token. Use the Label name as WANDB. \\nGet your W&B access token from here: https://wandb.ai/authorize')\n"
   ]
  },
  {
   "cell_type": "code",
   "execution_count": 3,
   "id": "0ccc7c20",
   "metadata": {
    "execution": {
     "iopub.execute_input": "2022-01-18T14:07:38.618949Z",
     "iopub.status.busy": "2022-01-18T14:07:38.618126Z",
     "iopub.status.idle": "2022-01-18T14:07:38.620517Z",
     "shell.execute_reply": "2022-01-18T14:07:38.620096Z",
     "shell.execute_reply.started": "2022-01-18T14:00:23.106799Z"
    },
    "papermill": {
     "duration": 0.050928,
     "end_time": "2022-01-18T14:07:38.620624",
     "exception": false,
     "start_time": "2022-01-18T14:07:38.569696",
     "status": "completed"
    },
    "tags": []
   },
   "outputs": [],
   "source": [
    "FOLD      = 1 # which fold to train\n",
    "DIM       = 4500#3584#4500#3000#3000 \n",
    "MODEL     = 'yolov5s6'\n",
    "BATCH     = 4\n",
    "EPOCHS    = 80#40#7\n",
    "OPTMIZER  = 'Adam'\n",
    "\n",
    "PROJECT   = 'great-barrier-reef-public' # w&b in yolov5\n",
    "NAME      = f'{MODEL}-dim{DIM}-fold{FOLD}' # w&b for yolov5\n",
    "\n",
    "REMOVE_NOBBOX = True # remove images with no bbox\n",
    "ROOT_DIR  = '../data/'\n",
    "IMAGE_DIR = '/mnt/hdd1/wearly/kaggle/greatbarrierreef/working/images' # directory to save images\n",
    "LABEL_DIR = '/mnt/hdd1/wearly/kaggle/greatbarrierreef/working/labels' # directory to save labels"
   ]
  },
  {
   "cell_type": "markdown",
   "id": "6491f60d",
   "metadata": {
    "papermill": {
     "duration": 0.04245,
     "end_time": "2022-01-18T14:07:38.705542",
     "exception": false,
     "start_time": "2022-01-18T14:07:38.663092",
     "status": "completed"
    },
    "tags": []
   },
   "source": [
    "## Create Directories"
   ]
  },
  {
   "cell_type": "code",
   "execution_count": 4,
   "id": "ca4460f2",
   "metadata": {
    "execution": {
     "iopub.execute_input": "2022-01-18T14:07:38.795505Z",
     "iopub.status.busy": "2022-01-18T14:07:38.794683Z",
     "iopub.status.idle": "2022-01-18T14:07:40.093646Z",
     "shell.execute_reply": "2022-01-18T14:07:40.094225Z",
     "shell.execute_reply.started": "2022-01-18T13:53:11.857695Z"
    },
    "papermill": {
     "duration": 1.346658,
     "end_time": "2022-01-18T14:07:40.094401",
     "exception": false,
     "start_time": "2022-01-18T14:07:38.747743",
     "status": "completed"
    },
    "tags": []
   },
   "outputs": [],
   "source": [
    "!mkdir -p {IMAGE_DIR}\n",
    "!mkdir -p {LABEL_DIR}"
   ]
  },
  {
   "cell_type": "markdown",
   "id": "772e0c3b",
   "metadata": {
    "papermill": {
     "duration": 0.050363,
     "end_time": "2022-01-18T14:07:40.189320",
     "exception": false,
     "start_time": "2022-01-18T14:07:40.138957",
     "status": "completed"
    },
    "tags": []
   },
   "source": [
    "## Get Paths"
   ]
  },
  {
   "cell_type": "code",
   "execution_count": 5,
   "id": "05d0d84c",
   "metadata": {
    "execution": {
     "iopub.execute_input": "2022-01-18T14:07:40.287231Z",
     "iopub.status.busy": "2022-01-18T14:07:40.286510Z",
     "iopub.status.idle": "2022-01-18T14:07:40.725163Z",
     "shell.execute_reply": "2022-01-18T14:07:40.724709Z",
     "shell.execute_reply.started": "2022-01-18T13:53:14.600942Z"
    },
    "papermill": {
     "duration": 0.490128,
     "end_time": "2022-01-18T14:07:40.725291",
     "exception": false,
     "start_time": "2022-01-18T14:07:40.235163",
     "status": "completed"
    },
    "tags": []
   },
   "outputs": [
    {
     "data": {
      "application/vnd.jupyter.widget-view+json": {
       "model_id": "44b407b7fe9241ed89025dd42bd12ae0",
       "version_major": 2,
       "version_minor": 0
      },
      "text/plain": [
       "  0%|          | 0/23501 [00:00<?, ?it/s]"
      ]
     },
     "metadata": {},
     "output_type": "display_data"
    },
    {
     "data": {
      "text/html": [
       "<div>\n",
       "<style scoped>\n",
       "    .dataframe tbody tr th:only-of-type {\n",
       "        vertical-align: middle;\n",
       "    }\n",
       "\n",
       "    .dataframe tbody tr th {\n",
       "        vertical-align: top;\n",
       "    }\n",
       "\n",
       "    .dataframe thead th {\n",
       "        text-align: right;\n",
       "    }\n",
       "</style>\n",
       "<table border=\"1\" class=\"dataframe\">\n",
       "  <thead>\n",
       "    <tr style=\"text-align: right;\">\n",
       "      <th></th>\n",
       "      <th>video_id</th>\n",
       "      <th>sequence</th>\n",
       "      <th>video_frame</th>\n",
       "      <th>sequence_frame</th>\n",
       "      <th>image_id</th>\n",
       "      <th>annotations</th>\n",
       "      <th>old_image_path</th>\n",
       "      <th>image_path</th>\n",
       "      <th>label_path</th>\n",
       "    </tr>\n",
       "  </thead>\n",
       "  <tbody>\n",
       "    <tr>\n",
       "      <th>0</th>\n",
       "      <td>0</td>\n",
       "      <td>40258</td>\n",
       "      <td>0</td>\n",
       "      <td>0</td>\n",
       "      <td>0-0</td>\n",
       "      <td>[]</td>\n",
       "      <td>../data//train_images/video_0/0.jpg</td>\n",
       "      <td>/mnt/hdd1/wearly/kaggle/greatbarrierreef/worki...</td>\n",
       "      <td>/mnt/hdd1/wearly/kaggle/greatbarrierreef/worki...</td>\n",
       "    </tr>\n",
       "    <tr>\n",
       "      <th>1</th>\n",
       "      <td>0</td>\n",
       "      <td>40258</td>\n",
       "      <td>1</td>\n",
       "      <td>1</td>\n",
       "      <td>0-1</td>\n",
       "      <td>[]</td>\n",
       "      <td>../data//train_images/video_0/1.jpg</td>\n",
       "      <td>/mnt/hdd1/wearly/kaggle/greatbarrierreef/worki...</td>\n",
       "      <td>/mnt/hdd1/wearly/kaggle/greatbarrierreef/worki...</td>\n",
       "    </tr>\n",
       "  </tbody>\n",
       "</table>\n",
       "</div>"
      ],
      "text/plain": [
       "   video_id  sequence  video_frame  sequence_frame image_id annotations  \\\n",
       "0         0     40258            0               0      0-0          []   \n",
       "1         0     40258            1               1      0-1          []   \n",
       "\n",
       "                        old_image_path  \\\n",
       "0  ../data//train_images/video_0/0.jpg   \n",
       "1  ../data//train_images/video_0/1.jpg   \n",
       "\n",
       "                                          image_path  \\\n",
       "0  /mnt/hdd1/wearly/kaggle/greatbarrierreef/worki...   \n",
       "1  /mnt/hdd1/wearly/kaggle/greatbarrierreef/worki...   \n",
       "\n",
       "                                          label_path  \n",
       "0  /mnt/hdd1/wearly/kaggle/greatbarrierreef/worki...  \n",
       "1  /mnt/hdd1/wearly/kaggle/greatbarrierreef/worki...  "
      ]
     },
     "metadata": {},
     "output_type": "display_data"
    }
   ],
   "source": [
    "# Train Data\n",
    "df = pd.read_csv(f'{ROOT_DIR}/train.csv')\n",
    "df['old_image_path'] = f'{ROOT_DIR}/train_images/video_'+df.video_id.astype(str)+'/'+df.video_frame.astype(str)+'.jpg'\n",
    "df['image_path']  = f'{IMAGE_DIR}/'+df.image_id+'.jpg'\n",
    "df['label_path']  = f'{LABEL_DIR}/'+df.image_id+'.txt'\n",
    "df['annotations'] = df['annotations'].progress_apply(eval)\n",
    "display(df.head(2))"
   ]
  },
  {
   "cell_type": "markdown",
   "id": "254b6c9f",
   "metadata": {
    "papermill": {
     "duration": 0.042623,
     "end_time": "2022-01-18T14:07:40.811697",
     "exception": false,
     "start_time": "2022-01-18T14:07:40.769074",
     "status": "completed"
    },
    "tags": []
   },
   "source": [
    "## Number of BBoxes\n",
    "> Nearly 80% images are without any bbox."
   ]
  },
  {
   "cell_type": "code",
   "execution_count": 6,
   "id": "6cea4888",
   "metadata": {
    "execution": {
     "iopub.execute_input": "2022-01-18T14:07:40.923208Z",
     "iopub.status.busy": "2022-01-18T14:07:40.922543Z",
     "iopub.status.idle": "2022-01-18T14:07:40.995039Z",
     "shell.execute_reply": "2022-01-18T14:07:40.994556Z",
     "shell.execute_reply.started": "2022-01-18T13:53:17.233776Z"
    },
    "papermill": {
     "duration": 0.14062,
     "end_time": "2022-01-18T14:07:40.995153",
     "exception": false,
     "start_time": "2022-01-18T14:07:40.854533",
     "status": "completed"
    },
    "tags": []
   },
   "outputs": [
    {
     "data": {
      "application/vnd.jupyter.widget-view+json": {
       "model_id": "84f6b36db3d941b69b8a3da14fef9033",
       "version_major": 2,
       "version_minor": 0
      },
      "text/plain": [
       "  0%|          | 0/23501 [00:00<?, ?it/s]"
      ]
     },
     "metadata": {},
     "output_type": "display_data"
    },
    {
     "name": "stdout",
     "output_type": "stream",
     "text": [
      "No BBox: 79.07% | With BBox: 20.93%\n"
     ]
    }
   ],
   "source": [
    "df['num_bbox'] = df['annotations'].progress_apply(lambda x: len(x))\n",
    "data = (df.num_bbox>0).value_counts(normalize=True)*100\n",
    "print(f\"No BBox: {data[0]:0.2f}% | With BBox: {data[1]:0.2f}%\")"
   ]
  },
  {
   "cell_type": "markdown",
   "id": "b6683d8a",
   "metadata": {
    "papermill": {
     "duration": 0.043791,
     "end_time": "2022-01-18T14:07:41.083136",
     "exception": false,
     "start_time": "2022-01-18T14:07:41.039345",
     "status": "completed"
    },
    "tags": []
   },
   "source": [
    "# Clean Data\n",
    "좌표값이 없는 데이터는 제외"
   ]
  },
  {
   "cell_type": "code",
   "execution_count": 7,
   "id": "43a504b4",
   "metadata": {
    "execution": {
     "iopub.execute_input": "2022-01-18T14:07:41.179447Z",
     "iopub.status.busy": "2022-01-18T14:07:41.178537Z",
     "iopub.status.idle": "2022-01-18T14:07:41.191297Z",
     "shell.execute_reply": "2022-01-18T14:07:41.190825Z",
     "shell.execute_reply.started": "2022-01-18T13:53:19.141168Z"
    },
    "papermill": {
     "duration": 0.064426,
     "end_time": "2022-01-18T14:07:41.191407",
     "exception": false,
     "start_time": "2022-01-18T14:07:41.126981",
     "status": "completed"
    },
    "tags": []
   },
   "outputs": [],
   "source": [
    "if REMOVE_NOBBOX:\n",
    "    df = df.query(\"num_bbox>0\")"
   ]
  },
  {
   "cell_type": "markdown",
   "id": "f7526489",
   "metadata": {
    "papermill": {
     "duration": 0.043772,
     "end_time": "2022-01-18T14:07:41.279472",
     "exception": false,
     "start_time": "2022-01-18T14:07:41.235700",
     "status": "completed"
    },
    "tags": []
   },
   "source": [
    "# Write Images\n",
    "* We need to copy the Images to Current Directory(`/kaggle/working`) as `/kaggle/input` doesn't have **write access** which is needed for **YOLOv5**.\n",
    "* We can make this process faster using **Joblib** which uses **Parallel** computing."
   ]
  },
  {
   "cell_type": "code",
   "execution_count": 8,
   "id": "c6b23980",
   "metadata": {
    "execution": {
     "iopub.execute_input": "2022-01-18T14:07:41.372105Z",
     "iopub.status.busy": "2022-01-18T14:07:41.371319Z",
     "iopub.status.idle": "2022-01-18T14:07:41.373326Z",
     "shell.execute_reply": "2022-01-18T14:07:41.373735Z",
     "shell.execute_reply.started": "2022-01-18T13:53:22.117616Z"
    },
    "papermill": {
     "duration": 0.050398,
     "end_time": "2022-01-18T14:07:41.373881",
     "exception": false,
     "start_time": "2022-01-18T14:07:41.323483",
     "status": "completed"
    },
    "tags": []
   },
   "outputs": [],
   "source": [
    "def make_copy(row):\n",
    "    shutil.copyfile(row.old_image_path, row.image_path)\n",
    "    return"
   ]
  },
  {
   "cell_type": "code",
   "execution_count": 9,
   "id": "45e7abe8",
   "metadata": {
    "execution": {
     "iopub.execute_input": "2022-01-18T14:07:41.488396Z",
     "iopub.status.busy": "2022-01-18T14:07:41.487452Z",
     "iopub.status.idle": "2022-01-18T14:08:11.178984Z",
     "shell.execute_reply": "2022-01-18T14:08:11.178499Z",
     "shell.execute_reply.started": "2022-01-18T13:53:24.713823Z"
    },
    "papermill": {
     "duration": 29.761315,
     "end_time": "2022-01-18T14:08:11.179131",
     "exception": false,
     "start_time": "2022-01-18T14:07:41.417816",
     "status": "completed"
    },
    "tags": []
   },
   "outputs": [
    {
     "data": {
      "application/vnd.jupyter.widget-view+json": {
       "model_id": "e311dab77ca64346aaa95ec9ac2a2025",
       "version_major": 2,
       "version_minor": 0
      },
      "text/plain": [
       "  0%|          | 0/4919 [00:00<?, ?it/s]"
      ]
     },
     "metadata": {},
     "output_type": "display_data"
    },
    {
     "ename": "KeyboardInterrupt",
     "evalue": "",
     "output_type": "error",
     "traceback": [
      "\u001b[0;31m---------------------------------------------------------------------------\u001b[0m",
      "\u001b[0;31mKeyboardInterrupt\u001b[0m                         Traceback (most recent call last)",
      "\u001b[0;32m/tmp/ipykernel_2917163/1625656332.py\u001b[0m in \u001b[0;36m<module>\u001b[0;34m\u001b[0m\n\u001b[1;32m      1\u001b[0m \u001b[0mimage_paths\u001b[0m \u001b[0;34m=\u001b[0m \u001b[0mdf\u001b[0m\u001b[0;34m.\u001b[0m\u001b[0mold_image_path\u001b[0m\u001b[0;34m.\u001b[0m\u001b[0mtolist\u001b[0m\u001b[0;34m(\u001b[0m\u001b[0;34m)\u001b[0m\u001b[0;34m\u001b[0m\u001b[0;34m\u001b[0m\u001b[0m\n\u001b[0;32m----> 2\u001b[0;31m \u001b[0m_\u001b[0m \u001b[0;34m=\u001b[0m \u001b[0mParallel\u001b[0m\u001b[0;34m(\u001b[0m\u001b[0mn_jobs\u001b[0m\u001b[0;34m=\u001b[0m\u001b[0;34m-\u001b[0m\u001b[0;36m1\u001b[0m\u001b[0;34m,\u001b[0m \u001b[0mbackend\u001b[0m\u001b[0;34m=\u001b[0m\u001b[0;34m'threading'\u001b[0m\u001b[0;34m)\u001b[0m\u001b[0;34m(\u001b[0m\u001b[0mdelayed\u001b[0m\u001b[0;34m(\u001b[0m\u001b[0mmake_copy\u001b[0m\u001b[0;34m)\u001b[0m\u001b[0;34m(\u001b[0m\u001b[0mrow\u001b[0m\u001b[0;34m)\u001b[0m \u001b[0;32mfor\u001b[0m \u001b[0m_\u001b[0m\u001b[0;34m,\u001b[0m \u001b[0mrow\u001b[0m \u001b[0;32min\u001b[0m \u001b[0mtqdm\u001b[0m\u001b[0;34m(\u001b[0m\u001b[0mdf\u001b[0m\u001b[0;34m.\u001b[0m\u001b[0miterrows\u001b[0m\u001b[0;34m(\u001b[0m\u001b[0;34m)\u001b[0m\u001b[0;34m,\u001b[0m \u001b[0mtotal\u001b[0m\u001b[0;34m=\u001b[0m\u001b[0mlen\u001b[0m\u001b[0;34m(\u001b[0m\u001b[0mdf\u001b[0m\u001b[0;34m)\u001b[0m\u001b[0;34m)\u001b[0m\u001b[0;34m)\u001b[0m\u001b[0;34m\u001b[0m\u001b[0;34m\u001b[0m\u001b[0m\n\u001b[0m",
      "\u001b[0;32m~/anaconda3/envs/mm/lib/python3.7/site-packages/joblib/parallel.py\u001b[0m in \u001b[0;36m__call__\u001b[0;34m(self, iterable)\u001b[0m\n\u001b[1;32m   1054\u001b[0m \u001b[0;34m\u001b[0m\u001b[0m\n\u001b[1;32m   1055\u001b[0m             \u001b[0;32mwith\u001b[0m \u001b[0mself\u001b[0m\u001b[0;34m.\u001b[0m\u001b[0m_backend\u001b[0m\u001b[0;34m.\u001b[0m\u001b[0mretrieval_context\u001b[0m\u001b[0;34m(\u001b[0m\u001b[0;34m)\u001b[0m\u001b[0;34m:\u001b[0m\u001b[0;34m\u001b[0m\u001b[0;34m\u001b[0m\u001b[0m\n\u001b[0;32m-> 1056\u001b[0;31m                 \u001b[0mself\u001b[0m\u001b[0;34m.\u001b[0m\u001b[0mretrieve\u001b[0m\u001b[0;34m(\u001b[0m\u001b[0;34m)\u001b[0m\u001b[0;34m\u001b[0m\u001b[0;34m\u001b[0m\u001b[0m\n\u001b[0m\u001b[1;32m   1057\u001b[0m             \u001b[0;31m# Make sure that we get a last message telling us we are done\u001b[0m\u001b[0;34m\u001b[0m\u001b[0;34m\u001b[0m\u001b[0;34m\u001b[0m\u001b[0m\n\u001b[1;32m   1058\u001b[0m             \u001b[0melapsed_time\u001b[0m \u001b[0;34m=\u001b[0m \u001b[0mtime\u001b[0m\u001b[0;34m.\u001b[0m\u001b[0mtime\u001b[0m\u001b[0;34m(\u001b[0m\u001b[0;34m)\u001b[0m \u001b[0;34m-\u001b[0m \u001b[0mself\u001b[0m\u001b[0;34m.\u001b[0m\u001b[0m_start_time\u001b[0m\u001b[0;34m\u001b[0m\u001b[0;34m\u001b[0m\u001b[0m\n",
      "\u001b[0;32m~/anaconda3/envs/mm/lib/python3.7/site-packages/joblib/parallel.py\u001b[0m in \u001b[0;36mretrieve\u001b[0;34m(self)\u001b[0m\n\u001b[1;32m    933\u001b[0m             \u001b[0;32mtry\u001b[0m\u001b[0;34m:\u001b[0m\u001b[0;34m\u001b[0m\u001b[0;34m\u001b[0m\u001b[0m\n\u001b[1;32m    934\u001b[0m                 \u001b[0;32mif\u001b[0m \u001b[0mgetattr\u001b[0m\u001b[0;34m(\u001b[0m\u001b[0mself\u001b[0m\u001b[0;34m.\u001b[0m\u001b[0m_backend\u001b[0m\u001b[0;34m,\u001b[0m \u001b[0;34m'supports_timeout'\u001b[0m\u001b[0;34m,\u001b[0m \u001b[0;32mFalse\u001b[0m\u001b[0;34m)\u001b[0m\u001b[0;34m:\u001b[0m\u001b[0;34m\u001b[0m\u001b[0;34m\u001b[0m\u001b[0m\n\u001b[0;32m--> 935\u001b[0;31m                     \u001b[0mself\u001b[0m\u001b[0;34m.\u001b[0m\u001b[0m_output\u001b[0m\u001b[0;34m.\u001b[0m\u001b[0mextend\u001b[0m\u001b[0;34m(\u001b[0m\u001b[0mjob\u001b[0m\u001b[0;34m.\u001b[0m\u001b[0mget\u001b[0m\u001b[0;34m(\u001b[0m\u001b[0mtimeout\u001b[0m\u001b[0;34m=\u001b[0m\u001b[0mself\u001b[0m\u001b[0;34m.\u001b[0m\u001b[0mtimeout\u001b[0m\u001b[0;34m)\u001b[0m\u001b[0;34m)\u001b[0m\u001b[0;34m\u001b[0m\u001b[0;34m\u001b[0m\u001b[0m\n\u001b[0m\u001b[1;32m    936\u001b[0m                 \u001b[0;32melse\u001b[0m\u001b[0;34m:\u001b[0m\u001b[0;34m\u001b[0m\u001b[0;34m\u001b[0m\u001b[0m\n\u001b[1;32m    937\u001b[0m                     \u001b[0mself\u001b[0m\u001b[0;34m.\u001b[0m\u001b[0m_output\u001b[0m\u001b[0;34m.\u001b[0m\u001b[0mextend\u001b[0m\u001b[0;34m(\u001b[0m\u001b[0mjob\u001b[0m\u001b[0;34m.\u001b[0m\u001b[0mget\u001b[0m\u001b[0;34m(\u001b[0m\u001b[0;34m)\u001b[0m\u001b[0;34m)\u001b[0m\u001b[0;34m\u001b[0m\u001b[0;34m\u001b[0m\u001b[0m\n",
      "\u001b[0;32m~/anaconda3/envs/mm/lib/python3.7/multiprocessing/pool.py\u001b[0m in \u001b[0;36mget\u001b[0;34m(self, timeout)\u001b[0m\n\u001b[1;32m    649\u001b[0m \u001b[0;34m\u001b[0m\u001b[0m\n\u001b[1;32m    650\u001b[0m     \u001b[0;32mdef\u001b[0m \u001b[0mget\u001b[0m\u001b[0;34m(\u001b[0m\u001b[0mself\u001b[0m\u001b[0;34m,\u001b[0m \u001b[0mtimeout\u001b[0m\u001b[0;34m=\u001b[0m\u001b[0;32mNone\u001b[0m\u001b[0;34m)\u001b[0m\u001b[0;34m:\u001b[0m\u001b[0;34m\u001b[0m\u001b[0;34m\u001b[0m\u001b[0m\n\u001b[0;32m--> 651\u001b[0;31m         \u001b[0mself\u001b[0m\u001b[0;34m.\u001b[0m\u001b[0mwait\u001b[0m\u001b[0;34m(\u001b[0m\u001b[0mtimeout\u001b[0m\u001b[0;34m)\u001b[0m\u001b[0;34m\u001b[0m\u001b[0;34m\u001b[0m\u001b[0m\n\u001b[0m\u001b[1;32m    652\u001b[0m         \u001b[0;32mif\u001b[0m \u001b[0;32mnot\u001b[0m \u001b[0mself\u001b[0m\u001b[0;34m.\u001b[0m\u001b[0mready\u001b[0m\u001b[0;34m(\u001b[0m\u001b[0;34m)\u001b[0m\u001b[0;34m:\u001b[0m\u001b[0;34m\u001b[0m\u001b[0;34m\u001b[0m\u001b[0m\n\u001b[1;32m    653\u001b[0m             \u001b[0;32mraise\u001b[0m \u001b[0mTimeoutError\u001b[0m\u001b[0;34m\u001b[0m\u001b[0;34m\u001b[0m\u001b[0m\n",
      "\u001b[0;32m~/anaconda3/envs/mm/lib/python3.7/multiprocessing/pool.py\u001b[0m in \u001b[0;36mwait\u001b[0;34m(self, timeout)\u001b[0m\n\u001b[1;32m    646\u001b[0m \u001b[0;34m\u001b[0m\u001b[0m\n\u001b[1;32m    647\u001b[0m     \u001b[0;32mdef\u001b[0m \u001b[0mwait\u001b[0m\u001b[0;34m(\u001b[0m\u001b[0mself\u001b[0m\u001b[0;34m,\u001b[0m \u001b[0mtimeout\u001b[0m\u001b[0;34m=\u001b[0m\u001b[0;32mNone\u001b[0m\u001b[0;34m)\u001b[0m\u001b[0;34m:\u001b[0m\u001b[0;34m\u001b[0m\u001b[0;34m\u001b[0m\u001b[0m\n\u001b[0;32m--> 648\u001b[0;31m         \u001b[0mself\u001b[0m\u001b[0;34m.\u001b[0m\u001b[0m_event\u001b[0m\u001b[0;34m.\u001b[0m\u001b[0mwait\u001b[0m\u001b[0;34m(\u001b[0m\u001b[0mtimeout\u001b[0m\u001b[0;34m)\u001b[0m\u001b[0;34m\u001b[0m\u001b[0;34m\u001b[0m\u001b[0m\n\u001b[0m\u001b[1;32m    649\u001b[0m \u001b[0;34m\u001b[0m\u001b[0m\n\u001b[1;32m    650\u001b[0m     \u001b[0;32mdef\u001b[0m \u001b[0mget\u001b[0m\u001b[0;34m(\u001b[0m\u001b[0mself\u001b[0m\u001b[0;34m,\u001b[0m \u001b[0mtimeout\u001b[0m\u001b[0;34m=\u001b[0m\u001b[0;32mNone\u001b[0m\u001b[0;34m)\u001b[0m\u001b[0;34m:\u001b[0m\u001b[0;34m\u001b[0m\u001b[0;34m\u001b[0m\u001b[0m\n",
      "\u001b[0;32m~/anaconda3/envs/mm/lib/python3.7/threading.py\u001b[0m in \u001b[0;36mwait\u001b[0;34m(self, timeout)\u001b[0m\n\u001b[1;32m    550\u001b[0m             \u001b[0msignaled\u001b[0m \u001b[0;34m=\u001b[0m \u001b[0mself\u001b[0m\u001b[0;34m.\u001b[0m\u001b[0m_flag\u001b[0m\u001b[0;34m\u001b[0m\u001b[0;34m\u001b[0m\u001b[0m\n\u001b[1;32m    551\u001b[0m             \u001b[0;32mif\u001b[0m \u001b[0;32mnot\u001b[0m \u001b[0msignaled\u001b[0m\u001b[0;34m:\u001b[0m\u001b[0;34m\u001b[0m\u001b[0;34m\u001b[0m\u001b[0m\n\u001b[0;32m--> 552\u001b[0;31m                 \u001b[0msignaled\u001b[0m \u001b[0;34m=\u001b[0m \u001b[0mself\u001b[0m\u001b[0;34m.\u001b[0m\u001b[0m_cond\u001b[0m\u001b[0;34m.\u001b[0m\u001b[0mwait\u001b[0m\u001b[0;34m(\u001b[0m\u001b[0mtimeout\u001b[0m\u001b[0;34m)\u001b[0m\u001b[0;34m\u001b[0m\u001b[0;34m\u001b[0m\u001b[0m\n\u001b[0m\u001b[1;32m    553\u001b[0m             \u001b[0;32mreturn\u001b[0m \u001b[0msignaled\u001b[0m\u001b[0;34m\u001b[0m\u001b[0;34m\u001b[0m\u001b[0m\n\u001b[1;32m    554\u001b[0m \u001b[0;34m\u001b[0m\u001b[0m\n",
      "\u001b[0;32m~/anaconda3/envs/mm/lib/python3.7/threading.py\u001b[0m in \u001b[0;36mwait\u001b[0;34m(self, timeout)\u001b[0m\n\u001b[1;32m    294\u001b[0m         \u001b[0;32mtry\u001b[0m\u001b[0;34m:\u001b[0m    \u001b[0;31m# restore state no matter what (e.g., KeyboardInterrupt)\u001b[0m\u001b[0;34m\u001b[0m\u001b[0;34m\u001b[0m\u001b[0m\n\u001b[1;32m    295\u001b[0m             \u001b[0;32mif\u001b[0m \u001b[0mtimeout\u001b[0m \u001b[0;32mis\u001b[0m \u001b[0;32mNone\u001b[0m\u001b[0;34m:\u001b[0m\u001b[0;34m\u001b[0m\u001b[0;34m\u001b[0m\u001b[0m\n\u001b[0;32m--> 296\u001b[0;31m                 \u001b[0mwaiter\u001b[0m\u001b[0;34m.\u001b[0m\u001b[0macquire\u001b[0m\u001b[0;34m(\u001b[0m\u001b[0;34m)\u001b[0m\u001b[0;34m\u001b[0m\u001b[0;34m\u001b[0m\u001b[0m\n\u001b[0m\u001b[1;32m    297\u001b[0m                 \u001b[0mgotit\u001b[0m \u001b[0;34m=\u001b[0m \u001b[0;32mTrue\u001b[0m\u001b[0;34m\u001b[0m\u001b[0;34m\u001b[0m\u001b[0m\n\u001b[1;32m    298\u001b[0m             \u001b[0;32melse\u001b[0m\u001b[0;34m:\u001b[0m\u001b[0;34m\u001b[0m\u001b[0;34m\u001b[0m\u001b[0m\n",
      "\u001b[0;31mKeyboardInterrupt\u001b[0m: "
     ]
    }
   ],
   "source": [
    "image_paths = df.old_image_path.tolist()\n",
    "_ = Parallel(n_jobs=-1, backend='threading')(delayed(make_copy)(row) for _, row in tqdm(df.iterrows(), total=len(df)))"
   ]
  },
  {
   "cell_type": "markdown",
   "id": "d7226cc8",
   "metadata": {
    "papermill": {
     "duration": 0.046665,
     "end_time": "2022-01-18T14:08:11.271568",
     "exception": false,
     "start_time": "2022-01-18T14:08:11.224903",
     "status": "completed"
    },
    "tags": []
   },
   "source": [
    "# Helper"
   ]
  },
  {
   "cell_type": "code",
   "execution_count": null,
   "id": "1d45819e",
   "metadata": {
    "_kg_hide-input": false,
    "execution": {
     "iopub.execute_input": "2022-01-18T14:08:11.375004Z",
     "iopub.status.busy": "2022-01-18T14:08:11.374381Z",
     "iopub.status.idle": "2022-01-18T14:08:12.203439Z",
     "shell.execute_reply": "2022-01-18T14:08:12.202916Z",
     "shell.execute_reply.started": "2022-01-18T13:53:58.066326Z"
    },
    "papermill": {
     "duration": 0.882451,
     "end_time": "2022-01-18T14:08:12.203589",
     "exception": false,
     "start_time": "2022-01-18T14:08:11.321138",
     "status": "completed"
    },
    "tags": []
   },
   "outputs": [],
   "source": [
    "# check https://github.com/awsaf49/bbox for source code of following utility functions\n",
    "from bbox.utils import coco2yolo, coco2voc, voc2yolo\n",
    "from bbox.utils import draw_bboxes, load_image\n",
    "from bbox.utils import clip_bbox, str2annot, annot2str\n",
    "\n",
    "def get_bbox(annots):\n",
    "    bboxes = [list(annot.values()) for annot in annots]\n",
    "    return bboxes\n",
    "\n",
    "def get_imgsize(row):\n",
    "    row['width'], row['height'] = imagesize.get(row['image_path'])\n",
    "    return row\n",
    "\n",
    "np.random.seed(32)\n",
    "colors = [(np.random.randint(255), np.random.randint(255), np.random.randint(255))\\\n",
    "          for idx in range(1)]"
   ]
  },
  {
   "cell_type": "markdown",
   "id": "bf55dfcd",
   "metadata": {
    "papermill": {
     "duration": 0.046668,
     "end_time": "2022-01-18T14:08:12.297909",
     "exception": false,
     "start_time": "2022-01-18T14:08:12.251241",
     "status": "completed"
    },
    "tags": []
   },
   "source": [
    "## Create BBox"
   ]
  },
  {
   "cell_type": "code",
   "execution_count": null,
   "id": "296e235c",
   "metadata": {
    "execution": {
     "iopub.execute_input": "2022-01-18T14:08:12.394750Z",
     "iopub.status.busy": "2022-01-18T14:08:12.393988Z",
     "iopub.status.idle": "2022-01-18T14:08:12.460424Z",
     "shell.execute_reply": "2022-01-18T14:08:12.460792Z",
     "shell.execute_reply.started": "2022-01-18T13:54:00.383428Z"
    },
    "papermill": {
     "duration": 0.115804,
     "end_time": "2022-01-18T14:08:12.460998",
     "exception": false,
     "start_time": "2022-01-18T14:08:12.345194",
     "status": "completed"
    },
    "tags": []
   },
   "outputs": [],
   "source": [
    "df['bboxes'] = df.annotations.progress_apply(get_bbox)\n",
    "df.head(2)"
   ]
  },
  {
   "cell_type": "markdown",
   "id": "0e7fd051",
   "metadata": {
    "papermill": {
     "duration": 0.047706,
     "end_time": "2022-01-18T14:08:12.554722",
     "exception": false,
     "start_time": "2022-01-18T14:08:12.507016",
     "status": "completed"
    },
    "tags": []
   },
   "source": [
    "## Get Image-Size\n",
    "> All Images have same dimension, [Width, Height] =  `[1280, 720]`"
   ]
  },
  {
   "cell_type": "code",
   "execution_count": null,
   "id": "b3e8c286",
   "metadata": {
    "execution": {
     "iopub.execute_input": "2022-01-18T14:08:12.670022Z",
     "iopub.status.busy": "2022-01-18T14:08:12.669226Z",
     "iopub.status.idle": "2022-01-18T14:08:12.672412Z",
     "shell.execute_reply": "2022-01-18T14:08:12.672899Z",
     "shell.execute_reply.started": "2022-01-18T13:54:01.952331Z"
    },
    "papermill": {
     "duration": 0.068907,
     "end_time": "2022-01-18T14:08:12.673050",
     "exception": false,
     "start_time": "2022-01-18T14:08:12.604143",
     "status": "completed"
    },
    "tags": []
   },
   "outputs": [],
   "source": [
    "df['width']  = 1280\n",
    "df['height'] = 720\n",
    "display(df.head(2))"
   ]
  },
  {
   "cell_type": "markdown",
   "id": "ae7843a7",
   "metadata": {
    "papermill": {
     "duration": 0.049483,
     "end_time": "2022-01-18T14:08:12.775891",
     "exception": false,
     "start_time": "2022-01-18T14:08:12.726408",
     "status": "completed"
    },
    "tags": []
   },
   "source": [
    "# Create Labels\n",
    "We need to export our labels to **YOLO** format, with one `*.txt` file per image (if no objects in image, no `*.txt` file is required). The *.txt file specifications are:\n",
    "\n",
    "* One row per object\n",
    "* Each row is class `[x_center, y_center, width, height]` format.\n",
    "* Box coordinates must be in **normalized** `xywh` format (from `0 - 1`). If your boxes are in pixels, divide `x_center` and `width` by `image width`, and `y_center` and `height` by `image height`.\n",
    "* Class numbers are **zero-indexed** (start from `0`).\n",
    "\n",
    "> Competition bbox format is **COCO** hence `[x_min, y_min, width, height]`. So, we need to convert form **COCO** to **YOLO** format.\n"
   ]
  },
  {
   "cell_type": "code",
   "execution_count": null,
   "id": "ab57549c",
   "metadata": {
    "_kg_hide-input": false,
    "execution": {
     "iopub.execute_input": "2022-01-18T14:08:12.909209Z",
     "iopub.status.busy": "2022-01-18T14:08:12.908353Z",
     "iopub.status.idle": "2022-01-18T14:08:17.516948Z",
     "shell.execute_reply": "2022-01-18T14:08:17.516421Z",
     "shell.execute_reply.started": "2022-01-18T13:54:02.966913Z"
    },
    "papermill": {
     "duration": 4.692142,
     "end_time": "2022-01-18T14:08:17.517103",
     "exception": false,
     "start_time": "2022-01-18T14:08:12.824961",
     "status": "completed"
    },
    "tags": []
   },
   "outputs": [],
   "source": [
    "cnt = 0\n",
    "all_bboxes = []\n",
    "bboxes_info = []\n",
    "for row_idx in tqdm(range(df.shape[0])):\n",
    "    row = df.iloc[row_idx]\n",
    "    image_height = row.height\n",
    "    image_width  = row.width\n",
    "    bboxes_coco  = np.array(row.bboxes).astype(np.float32).copy()\n",
    "    num_bbox     = len(bboxes_coco)\n",
    "    names        = ['cots']*num_bbox\n",
    "    labels       = np.array([0]*num_bbox)[..., None].astype(str)\n",
    "    ## Create Annotation(YOLO)\n",
    "    with open(row.label_path, 'w') as f:\n",
    "        if num_bbox<1:\n",
    "            annot = ''\n",
    "            f.write(annot)\n",
    "            cnt+=1\n",
    "            continue\n",
    "        bboxes_voc  = coco2voc(bboxes_coco, image_height, image_width)\n",
    "        #print(bboxes_voc)\n",
    "        bboxes_voc  = clip_bbox(bboxes_voc, image_height, image_width)\n",
    "        bboxes_yolo = voc2yolo(bboxes_voc, image_height, image_width).astype(str)\n",
    "        all_bboxes.extend(bboxes_yolo.astype(float))\n",
    "        bboxes_info.extend([[row.image_id, row.video_id, row.sequence]]*len(bboxes_yolo))\n",
    "        annots = np.concatenate([labels, bboxes_yolo], axis=1)\n",
    "        string = annot2str(annots)\n",
    "        f.write(string)\n",
    "print('Missing:',cnt)"
   ]
  },
  {
   "cell_type": "markdown",
   "id": "e7991771",
   "metadata": {
    "papermill": {
     "duration": 0.052238,
     "end_time": "2022-01-18T14:08:17.624710",
     "exception": false,
     "start_time": "2022-01-18T14:08:17.572472",
     "status": "completed"
    },
    "tags": []
   },
   "source": [
    "# Create Folds\n",
    "> Number of samples aren't same in each fold which can create large variance in **Cross-Validation**."
   ]
  },
  {
   "cell_type": "code",
   "execution_count": null,
   "id": "016356ec",
   "metadata": {},
   "outputs": [],
   "source": [
    "df = df.reset_index(drop=True)\n",
    "df['fold'] = -1"
   ]
  },
  {
   "cell_type": "code",
   "execution_count": null,
   "id": "366e5ccc",
   "metadata": {},
   "outputs": [],
   "source": [
    "# df = df.sample(frac=1).reset_index(drop=True)"
   ]
  },
  {
   "cell_type": "code",
   "execution_count": null,
   "id": "4f6364ec",
   "metadata": {},
   "outputs": [],
   "source": [
    "df.iloc[df.head(int(int(len(df))*0.95)).index.tolist(),-1] = 0"
   ]
  },
  {
   "cell_type": "code",
   "execution_count": null,
   "id": "f5426b6d",
   "metadata": {},
   "outputs": [],
   "source": [
    "df.iloc[df.tail(int(len(df))-int(int(len(df))*0.95)).index.tolist(),-1] = 1"
   ]
  },
  {
   "cell_type": "code",
   "execution_count": null,
   "id": "ff5677fe",
   "metadata": {
    "execution": {
     "iopub.execute_input": "2022-01-18T14:08:17.735053Z",
     "iopub.status.busy": "2022-01-18T14:08:17.734241Z",
     "iopub.status.idle": "2022-01-18T14:08:18.476670Z",
     "shell.execute_reply": "2022-01-18T14:08:18.477114Z",
     "shell.execute_reply.started": "2022-01-18T13:54:20.438521Z"
    },
    "papermill": {
     "duration": 0.800881,
     "end_time": "2022-01-18T14:08:18.477278",
     "exception": false,
     "start_time": "2022-01-18T14:08:17.676397",
     "status": "completed"
    },
    "tags": []
   },
   "outputs": [],
   "source": [
    "# from sklearn.model_selection import GroupKFold\n",
    "# kf = GroupKFold(n_splits = 2)\n",
    "# df = df.reset_index(drop=True)\n",
    "# df['fold'] = -1\n",
    "# for fold, (train_idx, val_idx) in enumerate(kf.split(df, groups=df.video_id.tolist())):\n",
    "#     df.loc[val_idx, 'fold'] = fold\n",
    "# display(df.fold.value_counts())"
   ]
  },
  {
   "cell_type": "code",
   "execution_count": null,
   "id": "b686b301",
   "metadata": {},
   "outputs": [],
   "source": [
    "display(df.fold.value_counts())"
   ]
  },
  {
   "cell_type": "markdown",
   "id": "39dac2e4",
   "metadata": {
    "papermill": {
     "duration": 0.046173,
     "end_time": "2022-01-18T14:08:18.570460",
     "exception": false,
     "start_time": "2022-01-18T14:08:18.524287",
     "status": "completed"
    },
    "tags": []
   },
   "source": [
    "# ⭕ BBox Distribution"
   ]
  },
  {
   "cell_type": "code",
   "execution_count": null,
   "id": "3bd1e4c5",
   "metadata": {
    "execution": {
     "iopub.execute_input": "2022-01-18T14:08:18.718398Z",
     "iopub.status.busy": "2022-01-18T14:08:18.692987Z",
     "iopub.status.idle": "2022-01-18T14:08:18.802239Z",
     "shell.execute_reply": "2022-01-18T14:08:18.802652Z",
     "shell.execute_reply.started": "2022-01-18T13:54:50.456239Z"
    },
    "papermill": {
     "duration": 0.184845,
     "end_time": "2022-01-18T14:08:18.802796",
     "exception": false,
     "start_time": "2022-01-18T14:08:18.617951",
     "status": "completed"
    },
    "tags": []
   },
   "outputs": [],
   "source": [
    "bbox_df = pd.DataFrame(np.concatenate([bboxes_info, all_bboxes], axis=1),\n",
    "             columns=['image_id','video_id','sequence',\n",
    "                     'xmid','ymid','w','h'])\n",
    "bbox_df[['xmid','ymid','w','h']] = bbox_df[['xmid','ymid','w','h']].astype(float)\n",
    "bbox_df['area'] = bbox_df.w * bbox_df.h * 1280 * 720\n",
    "bbox_df = bbox_df.merge(df[['image_id','fold']], on='image_id', how='left')\n",
    "bbox_df.head(2)"
   ]
  },
  {
   "cell_type": "markdown",
   "id": "8b96bd70",
   "metadata": {
    "papermill": {
     "duration": 0.047363,
     "end_time": "2022-01-18T14:08:18.898269",
     "exception": false,
     "start_time": "2022-01-18T14:08:18.850906",
     "status": "completed"
    },
    "tags": []
   },
   "source": [
    "## `x_center` Vs `y_center`"
   ]
  },
  {
   "cell_type": "code",
   "execution_count": null,
   "id": "5ec99907",
   "metadata": {
    "_kg_hide-input": true,
    "execution": {
     "iopub.execute_input": "2022-01-18T14:08:19.000882Z",
     "iopub.status.busy": "2022-01-18T14:08:18.999797Z",
     "iopub.status.idle": "2022-01-18T14:08:21.408099Z",
     "shell.execute_reply": "2022-01-18T14:08:21.408792Z",
     "shell.execute_reply.started": "2022-01-18T13:54:53.265970Z"
    },
    "papermill": {
     "duration": 2.462987,
     "end_time": "2022-01-18T14:08:21.409005",
     "exception": false,
     "start_time": "2022-01-18T14:08:18.946018",
     "status": "completed"
    },
    "tags": []
   },
   "outputs": [],
   "source": [
    "from scipy.stats import gaussian_kde\n",
    "\n",
    "all_bboxes = np.array(all_bboxes)\n",
    "\n",
    "x_val = all_bboxes[...,0]\n",
    "y_val = all_bboxes[...,1]\n",
    "\n",
    "# Calculate the point density\n",
    "xy = np.vstack([x_val,y_val])\n",
    "z = gaussian_kde(xy)(xy)\n",
    "\n",
    "fig, ax = plt.subplots(figsize = (10, 10))\n",
    "# ax.axis('off')\n",
    "ax.scatter(x_val, y_val, c=z, s=100, cmap='viridis')\n",
    "# ax.set_xlabel('x_mid')\n",
    "# ax.set_ylabel('y_mid')\n",
    "plt.show()"
   ]
  },
  {
   "cell_type": "markdown",
   "id": "f5ca5263",
   "metadata": {
    "papermill": {
     "duration": 0.091341,
     "end_time": "2022-01-18T14:08:21.592086",
     "exception": false,
     "start_time": "2022-01-18T14:08:21.500745",
     "status": "completed"
    },
    "tags": []
   },
   "source": [
    "## `width` Vs `height`"
   ]
  },
  {
   "cell_type": "code",
   "execution_count": null,
   "id": "38012dca",
   "metadata": {
    "_kg_hide-input": true,
    "execution": {
     "iopub.execute_input": "2022-01-18T14:08:21.791709Z",
     "iopub.status.busy": "2022-01-18T14:08:21.790837Z",
     "iopub.status.idle": "2022-01-18T14:08:24.063353Z",
     "shell.execute_reply": "2022-01-18T14:08:24.062394Z",
     "shell.execute_reply.started": "2022-01-18T13:54:57.786710Z"
    },
    "papermill": {
     "duration": 2.378005,
     "end_time": "2022-01-18T14:08:24.063485",
     "exception": false,
     "start_time": "2022-01-18T14:08:21.685480",
     "status": "completed"
    },
    "tags": []
   },
   "outputs": [],
   "source": [
    "x_val = all_bboxes[...,2]\n",
    "y_val = all_bboxes[...,3]\n",
    "\n",
    "# Calculate the point density\n",
    "xy = np.vstack([x_val,y_val])\n",
    "z = gaussian_kde(xy)(xy)\n",
    "\n",
    "fig, ax = plt.subplots(figsize = (10, 10))\n",
    "# ax.axis('off')\n",
    "ax.scatter(x_val, y_val, c=z, s=100, cmap='viridis')\n",
    "# ax.set_xlabel('bbox_width')\n",
    "# ax.set_ylabel('bbox_height')\n",
    "plt.show()"
   ]
  },
  {
   "cell_type": "markdown",
   "id": "883ad179",
   "metadata": {
    "papermill": {
     "duration": 0.057247,
     "end_time": "2022-01-18T14:08:24.179594",
     "exception": false,
     "start_time": "2022-01-18T14:08:24.122347",
     "status": "completed"
    },
    "tags": []
   },
   "source": [
    "## Area"
   ]
  },
  {
   "cell_type": "code",
   "execution_count": null,
   "id": "ceaa7148",
   "metadata": {
    "_kg_hide-input": true,
    "execution": {
     "iopub.execute_input": "2022-01-18T14:08:24.301253Z",
     "iopub.status.busy": "2022-01-18T14:08:24.300523Z",
     "iopub.status.idle": "2022-01-18T14:08:25.300158Z",
     "shell.execute_reply": "2022-01-18T14:08:25.299416Z",
     "shell.execute_reply.started": "2022-01-18T13:55:19.699000Z"
    },
    "papermill": {
     "duration": 1.063291,
     "end_time": "2022-01-18T14:08:25.300283",
     "exception": false,
     "start_time": "2022-01-18T14:08:24.236992",
     "status": "completed"
    },
    "tags": []
   },
   "outputs": [],
   "source": [
    "import matplotlib as mpl\n",
    "import seaborn as sns\n",
    "\n",
    "f, ax = plt.subplots(figsize=(12, 6))\n",
    "sns.despine(f)\n",
    "\n",
    "sns.histplot(\n",
    "    bbox_df,\n",
    "    x=\"area\", hue=\"fold\",\n",
    "    multiple=\"stack\",\n",
    "    palette=\"viridis\",\n",
    "    edgecolor=\".3\",\n",
    "    linewidth=.5,\n",
    "    log_scale=True,\n",
    ")\n",
    "ax.xaxis.set_major_formatter(mpl.ticker.ScalarFormatter())\n",
    "ax.set_xticks([500, 1000, 2000, 5000, 10000]);"
   ]
  },
  {
   "cell_type": "markdown",
   "id": "459769a6",
   "metadata": {
    "papermill": {
     "duration": 0.058524,
     "end_time": "2022-01-18T14:08:25.418109",
     "exception": false,
     "start_time": "2022-01-18T14:08:25.359585",
     "status": "completed"
    },
    "tags": []
   },
   "source": [
    "# 🌈 Visualization"
   ]
  },
  {
   "cell_type": "code",
   "execution_count": null,
   "id": "0f44dc5b",
   "metadata": {
    "_kg_hide-input": true,
    "execution": {
     "iopub.execute_input": "2022-01-18T14:08:25.544088Z",
     "iopub.status.busy": "2022-01-18T14:08:25.538695Z",
     "iopub.status.idle": "2022-01-18T14:08:28.801198Z",
     "shell.execute_reply": "2022-01-18T14:08:28.801647Z",
     "shell.execute_reply.started": "2022-01-18T13:55:26.680966Z"
    },
    "papermill": {
     "duration": 3.324959,
     "end_time": "2022-01-18T14:08:28.801798",
     "exception": false,
     "start_time": "2022-01-18T14:08:25.476839",
     "status": "completed"
    },
    "tags": []
   },
   "outputs": [],
   "source": [
    "df2 = df[(df.num_bbox>0)].sample(100) # takes samples with bbox\n",
    "y = 3; x = 2\n",
    "plt.figure(figsize=(12.8*x, 7.2*y))\n",
    "for idx in range(x*y):\n",
    "    row = df2.iloc[idx]\n",
    "    img           = load_image(row.image_path)\n",
    "    image_height  = row.height\n",
    "    image_width   = row.width\n",
    "    with open(row.label_path) as f:\n",
    "        annot = str2annot(f.read())\n",
    "    bboxes_yolo = annot[...,1:]\n",
    "    labels      = annot[..., 0].astype(int).tolist()\n",
    "    names         = ['cots']*len(bboxes_yolo)\n",
    "    plt.subplot(y, x, idx+1)\n",
    "    plt.imshow(draw_bboxes(img = img,\n",
    "                           bboxes = bboxes_yolo, \n",
    "                           classes = names,\n",
    "                           class_ids = labels,\n",
    "                           class_name = True, \n",
    "                           colors = colors, \n",
    "                           bbox_format = 'yolo',\n",
    "                           line_thickness = 2))\n",
    "    plt.axis('OFF')\n",
    "plt.tight_layout()\n",
    "plt.show()"
   ]
  },
  {
   "cell_type": "markdown",
   "id": "d17a17b1",
   "metadata": {
    "papermill": {
     "duration": 0.266252,
     "end_time": "2022-01-18T14:08:29.326285",
     "exception": false,
     "start_time": "2022-01-18T14:08:29.060033",
     "status": "completed"
    },
    "tags": []
   },
   "source": [
    "# 🍚 Dataset"
   ]
  },
  {
   "cell_type": "code",
   "execution_count": null,
   "id": "a5b9220a",
   "metadata": {
    "execution": {
     "iopub.execute_input": "2022-01-18T14:08:29.860378Z",
     "iopub.status.busy": "2022-01-18T14:08:29.859757Z",
     "iopub.status.idle": "2022-01-18T14:08:29.869630Z",
     "shell.execute_reply": "2022-01-18T14:08:29.870064Z",
     "shell.execute_reply.started": "2022-01-18T13:55:48.154489Z"
    },
    "papermill": {
     "duration": 0.284034,
     "end_time": "2022-01-18T14:08:29.870217",
     "exception": false,
     "start_time": "2022-01-18T14:08:29.586183",
     "status": "completed"
    },
    "tags": []
   },
   "outputs": [],
   "source": [
    "train_files = []\n",
    "val_files   = []\n",
    "train_df = df.query(\"fold!=@FOLD\")\n",
    "valid_df = df.query(\"fold==@FOLD\")\n",
    "train_files += list(train_df.image_path.unique())\n",
    "val_files += list(valid_df.image_path.unique())\n",
    "len(train_files), len(val_files)"
   ]
  },
  {
   "cell_type": "markdown",
   "id": "d79a8225",
   "metadata": {
    "papermill": {
     "duration": 0.258068,
     "end_time": "2022-01-18T14:08:30.386728",
     "exception": false,
     "start_time": "2022-01-18T14:08:30.128660",
     "status": "completed"
    },
    "tags": []
   },
   "source": [
    "# ⚙️ Configuration\n",
    "The dataset config file requires\n",
    "1. The dataset root directory path and relative paths to `train / val / test` image directories (or *.txt files with image paths)\n",
    "2. The number of classes `nc` and \n",
    "3. A list of class `names`:`['cots']`"
   ]
  },
  {
   "cell_type": "code",
   "execution_count": null,
   "id": "5f2f532b",
   "metadata": {
    "_kg_hide-input": true,
    "execution": {
     "iopub.execute_input": "2022-01-18T14:08:30.919697Z",
     "iopub.status.busy": "2022-01-18T14:08:30.918784Z",
     "iopub.status.idle": "2022-01-18T14:08:30.925359Z",
     "shell.execute_reply": "2022-01-18T14:08:30.924939Z",
     "shell.execute_reply.started": "2022-01-18T13:55:50.089699Z"
    },
    "papermill": {
     "duration": 0.279834,
     "end_time": "2022-01-18T14:08:30.925473",
     "exception": false,
     "start_time": "2022-01-18T14:08:30.645639",
     "status": "completed"
    },
    "tags": []
   },
   "outputs": [],
   "source": [
    "import yaml\n",
    "\n",
    "cwd = '/mnt/hdd1/wearly/kaggle/greatbarrierreef/working/'\n",
    "\n",
    "with open(os.path.join( cwd , 'train.txt'), 'w') as f:\n",
    "    for path in train_df.image_path.tolist():\n",
    "        f.write(path+'\\n')\n",
    "            \n",
    "with open(os.path.join(cwd , 'val.txt'), 'w') as f:\n",
    "    for path in valid_df.image_path.tolist():\n",
    "        f.write(path+'\\n')\n",
    "\n",
    "data = dict(\n",
    "    path  = '/mnt/hdd1/wearly/kaggle/greatbarrierreef/working/',\n",
    "    train =  os.path.join( cwd , 'train.txt') ,\n",
    "    val   =  os.path.join( cwd , 'val.txt' ),\n",
    "    nc    = 1,\n",
    "    names = ['cots'],\n",
    "    )\n",
    "\n",
    "with open(os.path.join( cwd , 'gbr.yaml'), 'w') as outfile:\n",
    "    yaml.dump(data, outfile, default_flow_style=False)\n",
    "\n",
    "f = open(os.path.join( cwd , 'gbr.yaml'), 'r')\n",
    "print('\\nyaml:')\n",
    "print(f.read())"
   ]
  },
  {
   "cell_type": "code",
   "execution_count": null,
   "id": "e2f1d159",
   "metadata": {
    "_kg_hide-input": true,
    "execution": {
     "iopub.execute_input": "2022-01-18T14:08:31.459957Z",
     "iopub.status.busy": "2022-01-18T14:08:31.459366Z",
     "iopub.status.idle": "2022-01-18T14:08:31.463786Z",
     "shell.execute_reply": "2022-01-18T14:08:31.464232Z",
     "shell.execute_reply.started": "2022-01-18T13:55:54.188591Z"
    },
    "papermill": {
     "duration": 0.27832,
     "end_time": "2022-01-18T14:08:31.464381",
     "exception": false,
     "start_time": "2022-01-18T14:08:31.186061",
     "status": "completed"
    },
    "tags": []
   },
   "outputs": [],
   "source": [
    "%%writefile /mnt/hdd1/wearly/kaggle/greatbarrierreef/working/hyp.yaml\n",
    "lr0: 0.001  # initial learning rate (SGD=1E-2, Adam=1E-3)\n",
    "lrf: 0.1  # final OneCycleLR learning rate (lr0 * lrf)\n",
    "momentum: 0.937  # SGD momentum/Adam beta1\n",
    "weight_decay: 0.0005  # optimizer weight decay 5e-4\n",
    "warmup_epochs: 3.0  # warmup epochs (fractions ok)\n",
    "warmup_momentum: 0.8  # warmup initial momentum\n",
    "warmup_bias_lr: 0.1  # warmup initial bias lr\n",
    "box: 0.05  # box loss gain\n",
    "cls: 0.5  # cls loss gain\n",
    "cls_pw: 1.0  # cls BCELoss positive_weight\n",
    "obj: 1.0  # obj loss gain (scale with pixels)\n",
    "obj_pw: 1.0  # obj BCELoss positive_weight\n",
    "iou_t: 0.20  # IoU training threshold\n",
    "anchor_t: 4.0  # anchor-multiple threshold\n",
    "# anchors: 3  # anchors per output layer (0 to ignore)\n",
    "fl_gamma: 0.0  # focal loss gamma (efficientDet default gamma=1.5)\n",
    "hsv_h: 0.015  # image HSV-Hue augmentation (fraction)\n",
    "hsv_s: 0.7  # image HSV-Saturation augmentation (fraction)\n",
    "hsv_v: 0.4  # image HSV-Value augmentation (fraction)\n",
    "degrees: 0.0  # image rotation (+/- deg)\n",
    "translate: 0.10  # image translation (+/- fraction)\n",
    "scale: 0.5  # image scale (+/- gain)\n",
    "shear: 0.0  # image shear (+/- deg)\n",
    "perspective: 0.0  # image perspective (+/- fraction), range 0-0.001\n",
    "flipud: 0.5  # image flip up-down (probability)\n",
    "fliplr: 0.5  # image flip left-right (probability)\n",
    "mosaic: 0.5  # image mosaic (probability)\n",
    "mixup: 0.5 # image mixup (probability)\n",
    "copy_paste: 0.0  # segment copy-paste (probability)\n"
   ]
  },
  {
   "cell_type": "code",
   "execution_count": null,
   "id": "9d4273e0",
   "metadata": {
    "execution": {
     "iopub.execute_input": "2022-01-18T14:08:32.711409Z",
     "iopub.status.busy": "2022-01-18T14:08:32.710427Z",
     "iopub.status.idle": "2022-01-18T14:08:44.699930Z",
     "shell.execute_reply": "2022-01-18T14:08:44.700347Z",
     "shell.execute_reply.started": "2022-01-18T13:56:20.695371Z"
    },
    "papermill": {
     "duration": 12.434951,
     "end_time": "2022-01-18T14:08:44.700491",
     "exception": false,
     "start_time": "2022-01-18T14:08:32.265540",
     "status": "completed"
    },
    "tags": []
   },
   "outputs": [],
   "source": [
    "%cd /mnt/hdd1/wearly/kaggle/greatbarrierreef/working\n",
    "#!rm -r /kaggle/working/yolov5\n",
    "!git clone https://github.com/ultralytics/yolov5 # clone\n",
    "#!cp -r /kaggle/input/yolov5-lib-ds /kaggle/working/yolov5\n",
    "%cd yolov5\n",
    "%pip install -qr requirements.txt  # install"
   ]
  },
  {
   "cell_type": "code",
   "execution_count": null,
   "id": "fb92968f",
   "metadata": {},
   "outputs": [],
   "source": [
    "%cd ..\n",
    "from yolov5 import utils\n",
    "%cd yolov5\n",
    "display = utils.notebook_init()  # check"
   ]
  },
  {
   "cell_type": "markdown",
   "id": "7442a4ef",
   "metadata": {
    "papermill": {
     "duration": 0.260128,
     "end_time": "2022-01-18T14:08:45.218782",
     "exception": false,
     "start_time": "2022-01-18T14:08:44.958654",
     "status": "completed"
    },
    "tags": []
   },
   "source": [
    "# 🚅 Training"
   ]
  },
  {
   "cell_type": "code",
   "execution_count": null,
   "id": "ffa8784a",
   "metadata": {
    "_kg_hide-output": true,
    "execution": {
     "iopub.execute_input": "2022-01-18T14:08:45.748037Z",
     "iopub.status.busy": "2022-01-18T14:08:45.747196Z",
     "iopub.status.idle": "2022-01-18T17:32:16.013662Z",
     "shell.execute_reply": "2022-01-18T17:32:16.013134Z"
    },
    "papermill": {
     "duration": 12210.535534,
     "end_time": "2022-01-18T17:32:16.013809",
     "exception": false,
     "start_time": "2022-01-18T14:08:45.478275",
     "status": "completed"
    },
    "tags": []
   },
   "outputs": [],
   "source": [
    "!python train.py --img {DIM}\\\n",
    "--batch {BATCH}\\\n",
    "--epochs {EPOCHS}\\\n",
    "--optimizer {OPTMIZER}\\\n",
    "--data /mnt/hdd1/wearly/kaggle/greatbarrierreef/working/gbr.yaml\\\n",
    "--hyp /mnt/hdd1/wearly/kaggle/greatbarrierreef/working/hyp.yaml\\\n",
    "--weights {MODEL}.pt\\\n",
    "--project {PROJECT} --name {NAME}\\\n",
    "--exist-ok"
   ]
  },
  {
   "cell_type": "markdown",
   "id": "4196201c",
   "metadata": {
    "papermill": {
     "duration": 2.116809,
     "end_time": "2022-01-18T17:32:24.845719",
     "exception": false,
     "start_time": "2022-01-18T17:32:22.728910",
     "status": "completed"
    },
    "tags": []
   },
   "source": [
    "## Output Files"
   ]
  },
  {
   "cell_type": "code",
   "execution_count": null,
   "id": "a6c97da1",
   "metadata": {
    "execution": {
     "iopub.execute_input": "2022-01-18T17:32:29.970294Z",
     "iopub.status.busy": "2022-01-18T17:32:29.969456Z",
     "iopub.status.idle": "2022-01-18T17:32:30.670051Z",
     "shell.execute_reply": "2022-01-18T17:32:30.669530Z",
     "shell.execute_reply.started": "2022-01-02T10:43:49.624305Z"
    },
    "papermill": {
     "duration": 3.143022,
     "end_time": "2022-01-18T17:32:30.670188",
     "exception": false,
     "start_time": "2022-01-18T17:32:27.527166",
     "status": "completed"
    },
    "tags": []
   },
   "outputs": [],
   "source": [
    "OUTPUT_DIR = '{}/{}'.format(PROJECT, NAME)\n",
    "!ls {OUTPUT_DIR}"
   ]
  },
  {
   "cell_type": "markdown",
   "id": "a6c43891",
   "metadata": {
    "papermill": {
     "duration": 2.130798,
     "end_time": "2022-01-18T17:32:35.022553",
     "exception": false,
     "start_time": "2022-01-18T17:32:32.891755",
     "status": "completed"
    },
    "tags": []
   },
   "source": [
    "# 📈 Class Distribution"
   ]
  },
  {
   "cell_type": "code",
   "execution_count": null,
   "id": "885fab69",
   "metadata": {
    "_kg_hide-input": true,
    "execution": {
     "iopub.execute_input": "2022-01-18T17:32:39.302782Z",
     "iopub.status.busy": "2022-01-18T17:32:39.301918Z",
     "iopub.status.idle": "2022-01-18T17:32:40.193814Z",
     "shell.execute_reply": "2022-01-18T17:32:40.193151Z",
     "shell.execute_reply.started": "2022-01-02T10:43:52.807991Z"
    },
    "papermill": {
     "duration": 3.035672,
     "end_time": "2022-01-18T17:32:40.194004",
     "exception": false,
     "start_time": "2022-01-18T17:32:37.158332",
     "status": "completed"
    },
    "tags": []
   },
   "outputs": [],
   "source": [
    "plt.figure(figsize = (10,10))\n",
    "plt.axis('off')\n",
    "plt.imshow(plt.imread(f'{OUTPUT_DIR}/labels_correlogram.jpg'));"
   ]
  },
  {
   "cell_type": "code",
   "execution_count": null,
   "id": "1d246252",
   "metadata": {
    "_kg_hide-input": true,
    "execution": {
     "iopub.execute_input": "2022-01-18T17:32:44.736828Z",
     "iopub.status.busy": "2022-01-18T17:32:44.732917Z",
     "iopub.status.idle": "2022-01-18T17:32:45.257721Z",
     "shell.execute_reply": "2022-01-18T17:32:45.258145Z",
     "shell.execute_reply.started": "2022-01-02T10:43:55.857996Z"
    },
    "papermill": {
     "duration": 2.769187,
     "end_time": "2022-01-18T17:32:45.258290",
     "exception": false,
     "start_time": "2022-01-18T17:32:42.489103",
     "status": "completed"
    },
    "tags": []
   },
   "outputs": [],
   "source": [
    "plt.figure(figsize = (10,10))\n",
    "plt.axis('off')\n",
    "plt.imshow(plt.imread(f'{OUTPUT_DIR}/labels.jpg'));"
   ]
  },
  {
   "cell_type": "markdown",
   "id": "bccb6da2",
   "metadata": {
    "papermill": {
     "duration": 2.13015,
     "end_time": "2022-01-18T17:32:49.519731",
     "exception": false,
     "start_time": "2022-01-18T17:32:47.389581",
     "status": "completed"
    },
    "tags": []
   },
   "source": [
    "# 🔭 Batch Image"
   ]
  },
  {
   "cell_type": "code",
   "execution_count": null,
   "id": "0574f2ab",
   "metadata": {
    "_kg_hide-input": true,
    "execution": {
     "iopub.execute_input": "2022-01-18T17:32:54.162748Z",
     "iopub.status.busy": "2022-01-18T17:32:54.161952Z",
     "iopub.status.idle": "2022-01-18T17:32:56.586963Z",
     "shell.execute_reply": "2022-01-18T17:32:56.587372Z",
     "shell.execute_reply.started": "2022-01-02T10:43:59.036033Z"
    },
    "papermill": {
     "duration": 4.628736,
     "end_time": "2022-01-18T17:32:56.587518",
     "exception": false,
     "start_time": "2022-01-18T17:32:51.958782",
     "status": "completed"
    },
    "tags": []
   },
   "outputs": [],
   "source": [
    "import matplotlib.pyplot as plt\n",
    "plt.figure(figsize = (10, 10))\n",
    "plt.imshow(plt.imread(f'{OUTPUT_DIR}/train_batch0.jpg'))\n",
    "\n",
    "plt.figure(figsize = (10, 10))\n",
    "plt.imshow(plt.imread(f'{OUTPUT_DIR}/train_batch1.jpg'))\n",
    "\n",
    "plt.figure(figsize = (10, 10))\n",
    "plt.imshow(plt.imread(f'{OUTPUT_DIR}/train_batch2.jpg'))"
   ]
  },
  {
   "cell_type": "markdown",
   "id": "d0ddbfff",
   "metadata": {
    "papermill": {
     "duration": 2.367485,
     "end_time": "2022-01-18T17:33:01.485234",
     "exception": false,
     "start_time": "2022-01-18T17:32:59.117749",
     "status": "completed"
    },
    "tags": []
   },
   "source": [
    "## GT Vs Pred"
   ]
  },
  {
   "cell_type": "code",
   "execution_count": null,
   "id": "5365c0be",
   "metadata": {
    "_kg_hide-input": true,
    "execution": {
     "iopub.execute_input": "2022-01-18T17:33:06.130574Z",
     "iopub.status.busy": "2022-01-18T17:33:06.108105Z",
     "iopub.status.idle": "2022-01-18T17:33:08.158162Z",
     "shell.execute_reply": "2022-01-18T17:33:08.158573Z",
     "shell.execute_reply.started": "2022-01-02T10:44:37.587033Z"
    },
    "papermill": {
     "duration": 4.223279,
     "end_time": "2022-01-18T17:33:08.158751",
     "exception": false,
     "start_time": "2022-01-18T17:33:03.935472",
     "status": "completed"
    },
    "tags": []
   },
   "outputs": [],
   "source": [
    "fig, ax = plt.subplots(3, 2, figsize = (2*9,3*5), constrained_layout = True)\n",
    "for row in range(3):\n",
    "    ax[row][0].imshow(plt.imread(f'{OUTPUT_DIR}/val_batch{row}_labels.jpg'))\n",
    "    ax[row][0].set_xticks([])\n",
    "    ax[row][0].set_yticks([])\n",
    "    ax[row][0].set_title(f'{OUTPUT_DIR}/val_batch{row}_labels.jpg', fontsize = 12)\n",
    "    \n",
    "    ax[row][1].imshow(plt.imread(f'{OUTPUT_DIR}/val_batch{row}_pred.jpg'))\n",
    "    ax[row][1].set_xticks([])\n",
    "    ax[row][1].set_yticks([])\n",
    "    ax[row][1].set_title(f'{OUTPUT_DIR}/val_batch{row}_pred.jpg', fontsize = 12)\n",
    "plt.show()"
   ]
  },
  {
   "cell_type": "markdown",
   "id": "28b90b39",
   "metadata": {
    "papermill": {
     "duration": 2.230337,
     "end_time": "2022-01-18T17:33:12.634946",
     "exception": false,
     "start_time": "2022-01-18T17:33:10.404609",
     "status": "completed"
    },
    "tags": []
   },
   "source": [
    "# 🔍 Result"
   ]
  },
  {
   "cell_type": "markdown",
   "id": "6fa3d644",
   "metadata": {
    "papermill": {
     "duration": 2.228864,
     "end_time": "2022-01-18T17:33:17.401273",
     "exception": false,
     "start_time": "2022-01-18T17:33:15.172409",
     "status": "completed"
    },
    "tags": []
   },
   "source": [
    "## Score Vs Epoch"
   ]
  },
  {
   "cell_type": "code",
   "execution_count": null,
   "id": "f3a2c0f1",
   "metadata": {
    "_kg_hide-input": true,
    "execution": {
     "iopub.execute_input": "2022-01-18T17:33:21.907348Z",
     "iopub.status.busy": "2022-01-18T17:33:21.906215Z",
     "iopub.status.idle": "2022-01-18T17:33:22.977446Z",
     "shell.execute_reply": "2022-01-18T17:33:22.977848Z",
     "shell.execute_reply.started": "2022-01-02T10:44:52.409236Z"
    },
    "papermill": {
     "duration": 3.313389,
     "end_time": "2022-01-18T17:33:22.978004",
     "exception": false,
     "start_time": "2022-01-18T17:33:19.664615",
     "status": "completed"
    },
    "tags": []
   },
   "outputs": [],
   "source": [
    "plt.figure(figsize=(30,15))\n",
    "plt.axis('off')\n",
    "plt.imshow(plt.imread(f'{OUTPUT_DIR}/results.png'));"
   ]
  },
  {
   "cell_type": "markdown",
   "id": "1c8aa142",
   "metadata": {
    "papermill": {
     "duration": 2.301812,
     "end_time": "2022-01-18T17:33:27.781277",
     "exception": false,
     "start_time": "2022-01-18T17:33:25.479465",
     "status": "completed"
    },
    "tags": []
   },
   "source": [
    "## Confusion Matrix"
   ]
  },
  {
   "cell_type": "code",
   "execution_count": null,
   "id": "d2de34ea",
   "metadata": {
    "_kg_hide-input": true,
    "execution": {
     "iopub.execute_input": "2022-01-18T17:33:32.797354Z",
     "iopub.status.busy": "2022-01-18T17:33:32.796506Z",
     "iopub.status.idle": "2022-01-18T17:33:34.480048Z",
     "shell.execute_reply": "2022-01-18T17:33:34.479582Z",
     "shell.execute_reply.started": "2022-01-02T10:44:56.758291Z"
    },
    "papermill": {
     "duration": 4.434394,
     "end_time": "2022-01-18T17:33:34.480178",
     "exception": false,
     "start_time": "2022-01-18T17:33:30.045784",
     "status": "completed"
    },
    "tags": []
   },
   "outputs": [],
   "source": [
    "plt.figure(figsize=(12,10))\n",
    "plt.axis('off')\n",
    "plt.imshow(plt.imread(f'{OUTPUT_DIR}/confusion_matrix.png'));"
   ]
  },
  {
   "cell_type": "markdown",
   "id": "01a627e0",
   "metadata": {
    "papermill": {
     "duration": 2.238951,
     "end_time": "2022-01-18T17:33:39.234287",
     "exception": false,
     "start_time": "2022-01-18T17:33:36.995336",
     "status": "completed"
    },
    "tags": []
   },
   "source": [
    "## Metrics"
   ]
  },
  {
   "cell_type": "code",
   "execution_count": null,
   "id": "9e1be3af",
   "metadata": {
    "_kg_hide-input": true,
    "execution": {
     "iopub.execute_input": "2022-01-18T17:33:43.784973Z",
     "iopub.status.busy": "2022-01-18T17:33:43.784347Z",
     "iopub.status.idle": "2022-01-18T17:33:46.675114Z",
     "shell.execute_reply": "2022-01-18T17:33:46.675523Z",
     "shell.execute_reply.started": "2022-01-02T10:45:05.11966Z"
    },
    "papermill": {
     "duration": 5.212187,
     "end_time": "2022-01-18T17:33:46.675667",
     "exception": false,
     "start_time": "2022-01-18T17:33:41.463480",
     "status": "completed"
    },
    "tags": []
   },
   "outputs": [],
   "source": [
    "for metric in ['F1', 'PR', 'P', 'R']:\n",
    "    print(f'Metric: {metric}')\n",
    "    plt.figure(figsize=(12,10))\n",
    "    plt.axis('off')\n",
    "    plt.imshow(plt.imread(f'{OUTPUT_DIR}/{metric}_curve.png'));\n",
    "    plt.show()"
   ]
  },
  {
   "cell_type": "markdown",
   "id": "2965c896",
   "metadata": {
    "papermill": {
     "duration": 2.285706,
     "end_time": "2022-01-18T17:33:51.230523",
     "exception": false,
     "start_time": "2022-01-18T17:33:48.944817",
     "status": "completed"
    },
    "tags": []
   },
   "source": [
    "## Please Upvote if you find this Helpful"
   ]
  },
  {
   "cell_type": "markdown",
   "id": "4ef8b41a",
   "metadata": {
    "papermill": {
     "duration": 2.25086,
     "end_time": "2022-01-18T17:33:55.760554",
     "exception": false,
     "start_time": "2022-01-18T17:33:53.509694",
     "status": "completed"
    },
    "tags": []
   },
   "source": [
    "# ✂️ Remove Files"
   ]
  },
  {
   "cell_type": "code",
   "execution_count": null,
   "id": "6e207de8",
   "metadata": {
    "execution": {
     "iopub.execute_input": "2022-01-18T17:34:00.587473Z",
     "iopub.status.busy": "2022-01-18T17:34:00.586737Z",
     "iopub.status.idle": "2022-01-18T17:34:02.464965Z",
     "shell.execute_reply": "2022-01-18T17:34:02.465441Z",
     "shell.execute_reply.started": "2021-12-10T03:50:56.860438Z"
    },
    "papermill": {
     "duration": 4.133866,
     "end_time": "2022-01-18T17:34:02.465601",
     "exception": false,
     "start_time": "2022-01-18T17:33:58.331735",
     "status": "completed"
    },
    "tags": []
   },
   "outputs": [],
   "source": [
    "!rm -r {IMAGE_DIR}\n",
    "!rm -r {LABEL_DIR}"
   ]
  },
  {
   "cell_type": "code",
   "execution_count": null,
   "id": "89a9bce1",
   "metadata": {},
   "outputs": [],
   "source": [
    "    "
   ]
  }
 ],
 "metadata": {
  "kernelspec": {
   "display_name": "Python 3 (ipykernel)",
   "language": "python",
   "name": "python3"
  },
  "language_info": {
   "codemirror_mode": {
    "name": "ipython",
    "version": 3
   },
   "file_extension": ".py",
   "mimetype": "text/x-python",
   "name": "python",
   "nbconvert_exporter": "python",
   "pygments_lexer": "ipython3",
   "version": "3.7.11"
  },
  "papermill": {
   "default_parameters": {},
   "duration": 12423.000497,
   "end_time": "2022-01-18T17:34:11.331906",
   "environment_variables": {},
   "exception": null,
   "input_path": "__notebook__.ipynb",
   "output_path": "__notebook__.ipynb",
   "parameters": {},
   "start_time": "2022-01-18T14:07:08.331409",
   "version": "2.3.3"
  },
  "widgets": {
   "application/vnd.jupyter.widget-state+json": {
    "state": {
     "0369b89a308e43a996990fc337a0080c": {
      "model_module": "@jupyter-widgets/base",
      "model_module_version": "1.2.0",
      "model_name": "LayoutModel",
      "state": {
       "_model_module": "@jupyter-widgets/base",
       "_model_module_version": "1.2.0",
       "_model_name": "LayoutModel",
       "_view_count": null,
       "_view_module": "@jupyter-widgets/base",
       "_view_module_version": "1.2.0",
       "_view_name": "LayoutView",
       "align_content": null,
       "align_items": null,
       "align_self": null,
       "border": null,
       "bottom": null,
       "display": null,
       "flex": null,
       "flex_flow": null,
       "grid_area": null,
       "grid_auto_columns": null,
       "grid_auto_flow": null,
       "grid_auto_rows": null,
       "grid_column": null,
       "grid_gap": null,
       "grid_row": null,
       "grid_template_areas": null,
       "grid_template_columns": null,
       "grid_template_rows": null,
       "height": null,
       "justify_content": null,
       "justify_items": null,
       "left": null,
       "margin": null,
       "max_height": null,
       "max_width": null,
       "min_height": null,
       "min_width": null,
       "object_fit": null,
       "object_position": null,
       "order": null,
       "overflow": null,
       "overflow_x": null,
       "overflow_y": null,
       "padding": null,
       "right": null,
       "top": null,
       "visibility": null,
       "width": null
      }
     },
     "070a02dcb47441aa94910c1059a630e5": {
      "model_module": "@jupyter-widgets/controls",
      "model_module_version": "1.5.0",
      "model_name": "FloatProgressModel",
      "state": {
       "_dom_classes": [],
       "_model_module": "@jupyter-widgets/controls",
       "_model_module_version": "1.5.0",
       "_model_name": "FloatProgressModel",
       "_view_count": null,
       "_view_module": "@jupyter-widgets/controls",
       "_view_module_version": "1.5.0",
       "_view_name": "ProgressView",
       "bar_style": "success",
       "description": "",
       "description_tooltip": null,
       "layout": "IPY_MODEL_1203797e73774182a4c794c43fc8b366",
       "max": 23501,
       "min": 0,
       "orientation": "horizontal",
       "style": "IPY_MODEL_9791b03797b04bab9f6d49408f54d6c8",
       "value": 23501
      }
     },
     "1203797e73774182a4c794c43fc8b366": {
      "model_module": "@jupyter-widgets/base",
      "model_module_version": "1.2.0",
      "model_name": "LayoutModel",
      "state": {
       "_model_module": "@jupyter-widgets/base",
       "_model_module_version": "1.2.0",
       "_model_name": "LayoutModel",
       "_view_count": null,
       "_view_module": "@jupyter-widgets/base",
       "_view_module_version": "1.2.0",
       "_view_name": "LayoutView",
       "align_content": null,
       "align_items": null,
       "align_self": null,
       "border": null,
       "bottom": null,
       "display": null,
       "flex": null,
       "flex_flow": null,
       "grid_area": null,
       "grid_auto_columns": null,
       "grid_auto_flow": null,
       "grid_auto_rows": null,
       "grid_column": null,
       "grid_gap": null,
       "grid_row": null,
       "grid_template_areas": null,
       "grid_template_columns": null,
       "grid_template_rows": null,
       "height": null,
       "justify_content": null,
       "justify_items": null,
       "left": null,
       "margin": null,
       "max_height": null,
       "max_width": null,
       "min_height": null,
       "min_width": null,
       "object_fit": null,
       "object_position": null,
       "order": null,
       "overflow": null,
       "overflow_x": null,
       "overflow_y": null,
       "padding": null,
       "right": null,
       "top": null,
       "visibility": null,
       "width": null
      }
     },
     "182de473de8d414da17087a63a38dea6": {
      "model_module": "@jupyter-widgets/controls",
      "model_module_version": "1.5.0",
      "model_name": "HTMLModel",
      "state": {
       "_dom_classes": [],
       "_model_module": "@jupyter-widgets/controls",
       "_model_module_version": "1.5.0",
       "_model_name": "HTMLModel",
       "_view_count": null,
       "_view_module": "@jupyter-widgets/controls",
       "_view_module_version": "1.5.0",
       "_view_name": "HTMLView",
       "description": "",
       "description_tooltip": null,
       "layout": "IPY_MODEL_812bb90ab51542709775b2a558d4411e",
       "placeholder": "​",
       "style": "IPY_MODEL_5ba5df7be2814364b2b42a22c8fc5a21",
       "value": " 23501/23501 [00:00&lt;00:00, 284449.65it/s]"
      }
     },
     "1ea62d0784fd4a8390e68bbe87487143": {
      "model_module": "@jupyter-widgets/controls",
      "model_module_version": "1.5.0",
      "model_name": "HTMLModel",
      "state": {
       "_dom_classes": [],
       "_model_module": "@jupyter-widgets/controls",
       "_model_module_version": "1.5.0",
       "_model_name": "HTMLModel",
       "_view_count": null,
       "_view_module": "@jupyter-widgets/controls",
       "_view_module_version": "1.5.0",
       "_view_name": "HTMLView",
       "description": "",
       "description_tooltip": null,
       "layout": "IPY_MODEL_ee8579befcdd41748e9f450a4af9f426",
       "placeholder": "​",
       "style": "IPY_MODEL_5d268dbfa46f4a3c876133c120db92fb",
       "value": " 4919/4919 [00:29&lt;00:00, 170.10it/s]"
      }
     },
     "1fe692de0c0e47ca801118b1166d45fd": {
      "model_module": "@jupyter-widgets/controls",
      "model_module_version": "1.5.0",
      "model_name": "HTMLModel",
      "state": {
       "_dom_classes": [],
       "_model_module": "@jupyter-widgets/controls",
       "_model_module_version": "1.5.0",
       "_model_name": "HTMLModel",
       "_view_count": null,
       "_view_module": "@jupyter-widgets/controls",
       "_view_module_version": "1.5.0",
       "_view_name": "HTMLView",
       "description": "",
       "description_tooltip": null,
       "layout": "IPY_MODEL_40fdc5f915d547ca892a68a779fd9683",
       "placeholder": "​",
       "style": "IPY_MODEL_934e62b4603e40469e861b9990c22f6e",
       "value": "100%"
      }
     },
     "2541338dd29c4c3d874efccc653eef55": {
      "model_module": "@jupyter-widgets/base",
      "model_module_version": "1.2.0",
      "model_name": "LayoutModel",
      "state": {
       "_model_module": "@jupyter-widgets/base",
       "_model_module_version": "1.2.0",
       "_model_name": "LayoutModel",
       "_view_count": null,
       "_view_module": "@jupyter-widgets/base",
       "_view_module_version": "1.2.0",
       "_view_name": "LayoutView",
       "align_content": null,
       "align_items": null,
       "align_self": null,
       "border": null,
       "bottom": null,
       "display": null,
       "flex": null,
       "flex_flow": null,
       "grid_area": null,
       "grid_auto_columns": null,
       "grid_auto_flow": null,
       "grid_auto_rows": null,
       "grid_column": null,
       "grid_gap": null,
       "grid_row": null,
       "grid_template_areas": null,
       "grid_template_columns": null,
       "grid_template_rows": null,
       "height": null,
       "justify_content": null,
       "justify_items": null,
       "left": null,
       "margin": null,
       "max_height": null,
       "max_width": null,
       "min_height": null,
       "min_width": null,
       "object_fit": null,
       "object_position": null,
       "order": null,
       "overflow": null,
       "overflow_x": null,
       "overflow_y": null,
       "padding": null,
       "right": null,
       "top": null,
       "visibility": null,
       "width": null
      }
     },
     "259ec7d5fc4b4a8ea866b1baf4672683": {
      "model_module": "@jupyter-widgets/controls",
      "model_module_version": "1.5.0",
      "model_name": "ProgressStyleModel",
      "state": {
       "_model_module": "@jupyter-widgets/controls",
       "_model_module_version": "1.5.0",
       "_model_name": "ProgressStyleModel",
       "_view_count": null,
       "_view_module": "@jupyter-widgets/base",
       "_view_module_version": "1.2.0",
       "_view_name": "StyleView",
       "bar_color": null,
       "description_width": ""
      }
     },
     "360085a8e48f4c8f99e25043d117264d": {
      "model_module": "@jupyter-widgets/base",
      "model_module_version": "1.2.0",
      "model_name": "LayoutModel",
      "state": {
       "_model_module": "@jupyter-widgets/base",
       "_model_module_version": "1.2.0",
       "_model_name": "LayoutModel",
       "_view_count": null,
       "_view_module": "@jupyter-widgets/base",
       "_view_module_version": "1.2.0",
       "_view_name": "LayoutView",
       "align_content": null,
       "align_items": null,
       "align_self": null,
       "border": null,
       "bottom": null,
       "display": null,
       "flex": null,
       "flex_flow": null,
       "grid_area": null,
       "grid_auto_columns": null,
       "grid_auto_flow": null,
       "grid_auto_rows": null,
       "grid_column": null,
       "grid_gap": null,
       "grid_row": null,
       "grid_template_areas": null,
       "grid_template_columns": null,
       "grid_template_rows": null,
       "height": null,
       "justify_content": null,
       "justify_items": null,
       "left": null,
       "margin": null,
       "max_height": null,
       "max_width": null,
       "min_height": null,
       "min_width": null,
       "object_fit": null,
       "object_position": null,
       "order": null,
       "overflow": null,
       "overflow_x": null,
       "overflow_y": null,
       "padding": null,
       "right": null,
       "top": null,
       "visibility": null,
       "width": null
      }
     },
     "36185e59c1374b71b4e7cc261716c0c1": {
      "model_module": "@jupyter-widgets/base",
      "model_module_version": "1.2.0",
      "model_name": "LayoutModel",
      "state": {
       "_model_module": "@jupyter-widgets/base",
       "_model_module_version": "1.2.0",
       "_model_name": "LayoutModel",
       "_view_count": null,
       "_view_module": "@jupyter-widgets/base",
       "_view_module_version": "1.2.0",
       "_view_name": "LayoutView",
       "align_content": null,
       "align_items": null,
       "align_self": null,
       "border": null,
       "bottom": null,
       "display": null,
       "flex": null,
       "flex_flow": null,
       "grid_area": null,
       "grid_auto_columns": null,
       "grid_auto_flow": null,
       "grid_auto_rows": null,
       "grid_column": null,
       "grid_gap": null,
       "grid_row": null,
       "grid_template_areas": null,
       "grid_template_columns": null,
       "grid_template_rows": null,
       "height": null,
       "justify_content": null,
       "justify_items": null,
       "left": null,
       "margin": null,
       "max_height": null,
       "max_width": null,
       "min_height": null,
       "min_width": null,
       "object_fit": null,
       "object_position": null,
       "order": null,
       "overflow": null,
       "overflow_x": null,
       "overflow_y": null,
       "padding": null,
       "right": null,
       "top": null,
       "visibility": null,
       "width": null
      }
     },
     "38811bfacdee4189ace241d68e322507": {
      "model_module": "@jupyter-widgets/base",
      "model_module_version": "1.2.0",
      "model_name": "LayoutModel",
      "state": {
       "_model_module": "@jupyter-widgets/base",
       "_model_module_version": "1.2.0",
       "_model_name": "LayoutModel",
       "_view_count": null,
       "_view_module": "@jupyter-widgets/base",
       "_view_module_version": "1.2.0",
       "_view_name": "LayoutView",
       "align_content": null,
       "align_items": null,
       "align_self": null,
       "border": null,
       "bottom": null,
       "display": null,
       "flex": null,
       "flex_flow": null,
       "grid_area": null,
       "grid_auto_columns": null,
       "grid_auto_flow": null,
       "grid_auto_rows": null,
       "grid_column": null,
       "grid_gap": null,
       "grid_row": null,
       "grid_template_areas": null,
       "grid_template_columns": null,
       "grid_template_rows": null,
       "height": null,
       "justify_content": null,
       "justify_items": null,
       "left": null,
       "margin": null,
       "max_height": null,
       "max_width": null,
       "min_height": null,
       "min_width": null,
       "object_fit": null,
       "object_position": null,
       "order": null,
       "overflow": null,
       "overflow_x": null,
       "overflow_y": null,
       "padding": null,
       "right": null,
       "top": null,
       "visibility": null,
       "width": null
      }
     },
     "40fdc5f915d547ca892a68a779fd9683": {
      "model_module": "@jupyter-widgets/base",
      "model_module_version": "1.2.0",
      "model_name": "LayoutModel",
      "state": {
       "_model_module": "@jupyter-widgets/base",
       "_model_module_version": "1.2.0",
       "_model_name": "LayoutModel",
       "_view_count": null,
       "_view_module": "@jupyter-widgets/base",
       "_view_module_version": "1.2.0",
       "_view_name": "LayoutView",
       "align_content": null,
       "align_items": null,
       "align_self": null,
       "border": null,
       "bottom": null,
       "display": null,
       "flex": null,
       "flex_flow": null,
       "grid_area": null,
       "grid_auto_columns": null,
       "grid_auto_flow": null,
       "grid_auto_rows": null,
       "grid_column": null,
       "grid_gap": null,
       "grid_row": null,
       "grid_template_areas": null,
       "grid_template_columns": null,
       "grid_template_rows": null,
       "height": null,
       "justify_content": null,
       "justify_items": null,
       "left": null,
       "margin": null,
       "max_height": null,
       "max_width": null,
       "min_height": null,
       "min_width": null,
       "object_fit": null,
       "object_position": null,
       "order": null,
       "overflow": null,
       "overflow_x": null,
       "overflow_y": null,
       "padding": null,
       "right": null,
       "top": null,
       "visibility": null,
       "width": null
      }
     },
     "41b3693e673849b197ad1aa52e74ae53": {
      "model_module": "@jupyter-widgets/base",
      "model_module_version": "1.2.0",
      "model_name": "LayoutModel",
      "state": {
       "_model_module": "@jupyter-widgets/base",
       "_model_module_version": "1.2.0",
       "_model_name": "LayoutModel",
       "_view_count": null,
       "_view_module": "@jupyter-widgets/base",
       "_view_module_version": "1.2.0",
       "_view_name": "LayoutView",
       "align_content": null,
       "align_items": null,
       "align_self": null,
       "border": null,
       "bottom": null,
       "display": null,
       "flex": null,
       "flex_flow": null,
       "grid_area": null,
       "grid_auto_columns": null,
       "grid_auto_flow": null,
       "grid_auto_rows": null,
       "grid_column": null,
       "grid_gap": null,
       "grid_row": null,
       "grid_template_areas": null,
       "grid_template_columns": null,
       "grid_template_rows": null,
       "height": null,
       "justify_content": null,
       "justify_items": null,
       "left": null,
       "margin": null,
       "max_height": null,
       "max_width": null,
       "min_height": null,
       "min_width": null,
       "object_fit": null,
       "object_position": null,
       "order": null,
       "overflow": null,
       "overflow_x": null,
       "overflow_y": null,
       "padding": null,
       "right": null,
       "top": null,
       "visibility": null,
       "width": null
      }
     },
     "41c38b8ac76c4a128878e3ee674b0cf8": {
      "model_module": "@jupyter-widgets/controls",
      "model_module_version": "1.5.0",
      "model_name": "HTMLModel",
      "state": {
       "_dom_classes": [],
       "_model_module": "@jupyter-widgets/controls",
       "_model_module_version": "1.5.0",
       "_model_name": "HTMLModel",
       "_view_count": null,
       "_view_module": "@jupyter-widgets/controls",
       "_view_module_version": "1.5.0",
       "_view_name": "HTMLView",
       "description": "",
       "description_tooltip": null,
       "layout": "IPY_MODEL_36185e59c1374b71b4e7cc261716c0c1",
       "placeholder": "​",
       "style": "IPY_MODEL_783887e9841544e6bbf19a6d439ab1dd",
       "value": " 4919/4919 [00:04&lt;00:00, 1910.00it/s]"
      }
     },
     "43019d6d20474c6f8a1770debede7b80": {
      "model_module": "@jupyter-widgets/base",
      "model_module_version": "1.2.0",
      "model_name": "LayoutModel",
      "state": {
       "_model_module": "@jupyter-widgets/base",
       "_model_module_version": "1.2.0",
       "_model_name": "LayoutModel",
       "_view_count": null,
       "_view_module": "@jupyter-widgets/base",
       "_view_module_version": "1.2.0",
       "_view_name": "LayoutView",
       "align_content": null,
       "align_items": null,
       "align_self": null,
       "border": null,
       "bottom": null,
       "display": null,
       "flex": null,
       "flex_flow": null,
       "grid_area": null,
       "grid_auto_columns": null,
       "grid_auto_flow": null,
       "grid_auto_rows": null,
       "grid_column": null,
       "grid_gap": null,
       "grid_row": null,
       "grid_template_areas": null,
       "grid_template_columns": null,
       "grid_template_rows": null,
       "height": null,
       "justify_content": null,
       "justify_items": null,
       "left": null,
       "margin": null,
       "max_height": null,
       "max_width": null,
       "min_height": null,
       "min_width": null,
       "object_fit": null,
       "object_position": null,
       "order": null,
       "overflow": null,
       "overflow_x": null,
       "overflow_y": null,
       "padding": null,
       "right": null,
       "top": null,
       "visibility": null,
       "width": null
      }
     },
     "4323be30f20044b78ad6e5104ad8e324": {
      "model_module": "@jupyter-widgets/controls",
      "model_module_version": "1.5.0",
      "model_name": "HTMLModel",
      "state": {
       "_dom_classes": [],
       "_model_module": "@jupyter-widgets/controls",
       "_model_module_version": "1.5.0",
       "_model_name": "HTMLModel",
       "_view_count": null,
       "_view_module": "@jupyter-widgets/controls",
       "_view_module_version": "1.5.0",
       "_view_name": "HTMLView",
       "description": "",
       "description_tooltip": null,
       "layout": "IPY_MODEL_360085a8e48f4c8f99e25043d117264d",
       "placeholder": "​",
       "style": "IPY_MODEL_bf35d6f43e28456aa4dc5f5c3ebf5c91",
       "value": " 23501/23501 [00:00&lt;00:00, 68355.08it/s]"
      }
     },
     "45b0b300fc9c4a8c884231c1b5a4a1f0": {
      "model_module": "@jupyter-widgets/controls",
      "model_module_version": "1.5.0",
      "model_name": "FloatProgressModel",
      "state": {
       "_dom_classes": [],
       "_model_module": "@jupyter-widgets/controls",
       "_model_module_version": "1.5.0",
       "_model_name": "FloatProgressModel",
       "_view_count": null,
       "_view_module": "@jupyter-widgets/controls",
       "_view_module_version": "1.5.0",
       "_view_name": "ProgressView",
       "bar_style": "success",
       "description": "",
       "description_tooltip": null,
       "layout": "IPY_MODEL_41b3693e673849b197ad1aa52e74ae53",
       "max": 23501,
       "min": 0,
       "orientation": "horizontal",
       "style": "IPY_MODEL_ae7311adf54a49569590547152bdced7",
       "value": 23501
      }
     },
     "4a7cb8a21e004ec4b2f64e4a596bcea7": {
      "model_module": "@jupyter-widgets/controls",
      "model_module_version": "1.5.0",
      "model_name": "HTMLModel",
      "state": {
       "_dom_classes": [],
       "_model_module": "@jupyter-widgets/controls",
       "_model_module_version": "1.5.0",
       "_model_name": "HTMLModel",
       "_view_count": null,
       "_view_module": "@jupyter-widgets/controls",
       "_view_module_version": "1.5.0",
       "_view_name": "HTMLView",
       "description": "",
       "description_tooltip": null,
       "layout": "IPY_MODEL_8fdc3c5af3674754b9f9c1ef5a09657e",
       "placeholder": "​",
       "style": "IPY_MODEL_80295802ef184c33a39071f008348016",
       "value": "100%"
      }
     },
     "4c271ba7dcf749c3ba941f265284a997": {
      "model_module": "@jupyter-widgets/base",
      "model_module_version": "1.2.0",
      "model_name": "LayoutModel",
      "state": {
       "_model_module": "@jupyter-widgets/base",
       "_model_module_version": "1.2.0",
       "_model_name": "LayoutModel",
       "_view_count": null,
       "_view_module": "@jupyter-widgets/base",
       "_view_module_version": "1.2.0",
       "_view_name": "LayoutView",
       "align_content": null,
       "align_items": null,
       "align_self": null,
       "border": null,
       "bottom": null,
       "display": null,
       "flex": null,
       "flex_flow": null,
       "grid_area": null,
       "grid_auto_columns": null,
       "grid_auto_flow": null,
       "grid_auto_rows": null,
       "grid_column": null,
       "grid_gap": null,
       "grid_row": null,
       "grid_template_areas": null,
       "grid_template_columns": null,
       "grid_template_rows": null,
       "height": null,
       "justify_content": null,
       "justify_items": null,
       "left": null,
       "margin": null,
       "max_height": null,
       "max_width": null,
       "min_height": null,
       "min_width": null,
       "object_fit": null,
       "object_position": null,
       "order": null,
       "overflow": null,
       "overflow_x": null,
       "overflow_y": null,
       "padding": null,
       "right": null,
       "top": null,
       "visibility": null,
       "width": null
      }
     },
     "4e0e350ae0fa49e79620fd8d533ca52e": {
      "model_module": "@jupyter-widgets/controls",
      "model_module_version": "1.5.0",
      "model_name": "ProgressStyleModel",
      "state": {
       "_model_module": "@jupyter-widgets/controls",
       "_model_module_version": "1.5.0",
       "_model_name": "ProgressStyleModel",
       "_view_count": null,
       "_view_module": "@jupyter-widgets/base",
       "_view_module_version": "1.2.0",
       "_view_name": "StyleView",
       "bar_color": null,
       "description_width": ""
      }
     },
     "51b881144b36486ebcc02a41f6fc0716": {
      "model_module": "@jupyter-widgets/controls",
      "model_module_version": "1.5.0",
      "model_name": "DescriptionStyleModel",
      "state": {
       "_model_module": "@jupyter-widgets/controls",
       "_model_module_version": "1.5.0",
       "_model_name": "DescriptionStyleModel",
       "_view_count": null,
       "_view_module": "@jupyter-widgets/base",
       "_view_module_version": "1.2.0",
       "_view_name": "StyleView",
       "description_width": ""
      }
     },
     "55f4b8b73eac4322899254eeccfd097f": {
      "model_module": "@jupyter-widgets/controls",
      "model_module_version": "1.5.0",
      "model_name": "FloatProgressModel",
      "state": {
       "_dom_classes": [],
       "_model_module": "@jupyter-widgets/controls",
       "_model_module_version": "1.5.0",
       "_model_name": "FloatProgressModel",
       "_view_count": null,
       "_view_module": "@jupyter-widgets/controls",
       "_view_module_version": "1.5.0",
       "_view_name": "ProgressView",
       "bar_style": "success",
       "description": "",
       "description_tooltip": null,
       "layout": "IPY_MODEL_4c271ba7dcf749c3ba941f265284a997",
       "max": 4919,
       "min": 0,
       "orientation": "horizontal",
       "style": "IPY_MODEL_4e0e350ae0fa49e79620fd8d533ca52e",
       "value": 4919
      }
     },
     "58ab793f00bb470088662d9261a20d19": {
      "model_module": "@jupyter-widgets/controls",
      "model_module_version": "1.5.0",
      "model_name": "HTMLModel",
      "state": {
       "_dom_classes": [],
       "_model_module": "@jupyter-widgets/controls",
       "_model_module_version": "1.5.0",
       "_model_name": "HTMLModel",
       "_view_count": null,
       "_view_module": "@jupyter-widgets/controls",
       "_view_module_version": "1.5.0",
       "_view_name": "HTMLView",
       "description": "",
       "description_tooltip": null,
       "layout": "IPY_MODEL_0369b89a308e43a996990fc337a0080c",
       "placeholder": "​",
       "style": "IPY_MODEL_51b881144b36486ebcc02a41f6fc0716",
       "value": " 4919/4919 [00:00&lt;00:00, 104644.86it/s]"
      }
     },
     "59701ab7b82a4a77b8079f7541d0e9e8": {
      "model_module": "@jupyter-widgets/controls",
      "model_module_version": "1.5.0",
      "model_name": "HBoxModel",
      "state": {
       "_dom_classes": [],
       "_model_module": "@jupyter-widgets/controls",
       "_model_module_version": "1.5.0",
       "_model_name": "HBoxModel",
       "_view_count": null,
       "_view_module": "@jupyter-widgets/controls",
       "_view_module_version": "1.5.0",
       "_view_name": "HBoxView",
       "box_style": "",
       "children": [
        "IPY_MODEL_1fe692de0c0e47ca801118b1166d45fd",
        "IPY_MODEL_55f4b8b73eac4322899254eeccfd097f",
        "IPY_MODEL_58ab793f00bb470088662d9261a20d19"
       ],
       "layout": "IPY_MODEL_8575f4084d1a4cf2b1f891ba62a64f4c"
      }
     },
     "5ba5df7be2814364b2b42a22c8fc5a21": {
      "model_module": "@jupyter-widgets/controls",
      "model_module_version": "1.5.0",
      "model_name": "DescriptionStyleModel",
      "state": {
       "_model_module": "@jupyter-widgets/controls",
       "_model_module_version": "1.5.0",
       "_model_name": "DescriptionStyleModel",
       "_view_count": null,
       "_view_module": "@jupyter-widgets/base",
       "_view_module_version": "1.2.0",
       "_view_name": "StyleView",
       "description_width": ""
      }
     },
     "5d268dbfa46f4a3c876133c120db92fb": {
      "model_module": "@jupyter-widgets/controls",
      "model_module_version": "1.5.0",
      "model_name": "DescriptionStyleModel",
      "state": {
       "_model_module": "@jupyter-widgets/controls",
       "_model_module_version": "1.5.0",
       "_model_name": "DescriptionStyleModel",
       "_view_count": null,
       "_view_module": "@jupyter-widgets/base",
       "_view_module_version": "1.2.0",
       "_view_name": "StyleView",
       "description_width": ""
      }
     },
     "62f8219418724ba19e3049a878665362": {
      "model_module": "@jupyter-widgets/base",
      "model_module_version": "1.2.0",
      "model_name": "LayoutModel",
      "state": {
       "_model_module": "@jupyter-widgets/base",
       "_model_module_version": "1.2.0",
       "_model_name": "LayoutModel",
       "_view_count": null,
       "_view_module": "@jupyter-widgets/base",
       "_view_module_version": "1.2.0",
       "_view_name": "LayoutView",
       "align_content": null,
       "align_items": null,
       "align_self": null,
       "border": null,
       "bottom": null,
       "display": null,
       "flex": null,
       "flex_flow": null,
       "grid_area": null,
       "grid_auto_columns": null,
       "grid_auto_flow": null,
       "grid_auto_rows": null,
       "grid_column": null,
       "grid_gap": null,
       "grid_row": null,
       "grid_template_areas": null,
       "grid_template_columns": null,
       "grid_template_rows": null,
       "height": null,
       "justify_content": null,
       "justify_items": null,
       "left": null,
       "margin": null,
       "max_height": null,
       "max_width": null,
       "min_height": null,
       "min_width": null,
       "object_fit": null,
       "object_position": null,
       "order": null,
       "overflow": null,
       "overflow_x": null,
       "overflow_y": null,
       "padding": null,
       "right": null,
       "top": null,
       "visibility": null,
       "width": null
      }
     },
     "64f85049ba1b4ef29f23e08b997480a5": {
      "model_module": "@jupyter-widgets/controls",
      "model_module_version": "1.5.0",
      "model_name": "DescriptionStyleModel",
      "state": {
       "_model_module": "@jupyter-widgets/controls",
       "_model_module_version": "1.5.0",
       "_model_name": "DescriptionStyleModel",
       "_view_count": null,
       "_view_module": "@jupyter-widgets/base",
       "_view_module_version": "1.2.0",
       "_view_name": "StyleView",
       "description_width": ""
      }
     },
     "65fab58b8826432d9c0634f3da56a2d8": {
      "model_module": "@jupyter-widgets/controls",
      "model_module_version": "1.5.0",
      "model_name": "HBoxModel",
      "state": {
       "_dom_classes": [],
       "_model_module": "@jupyter-widgets/controls",
       "_model_module_version": "1.5.0",
       "_model_name": "HBoxModel",
       "_view_count": null,
       "_view_module": "@jupyter-widgets/controls",
       "_view_module_version": "1.5.0",
       "_view_name": "HBoxView",
       "box_style": "",
       "children": [
        "IPY_MODEL_dfbcc7e6427a44d0b1305fa78a5d8524",
        "IPY_MODEL_070a02dcb47441aa94910c1059a630e5",
        "IPY_MODEL_4323be30f20044b78ad6e5104ad8e324"
       ],
       "layout": "IPY_MODEL_43019d6d20474c6f8a1770debede7b80"
      }
     },
     "689b406f39de4eda9eaab17aa23926e7": {
      "model_module": "@jupyter-widgets/controls",
      "model_module_version": "1.5.0",
      "model_name": "HBoxModel",
      "state": {
       "_dom_classes": [],
       "_model_module": "@jupyter-widgets/controls",
       "_model_module_version": "1.5.0",
       "_model_name": "HBoxModel",
       "_view_count": null,
       "_view_module": "@jupyter-widgets/controls",
       "_view_module_version": "1.5.0",
       "_view_name": "HBoxView",
       "box_style": "",
       "children": [
        "IPY_MODEL_4a7cb8a21e004ec4b2f64e4a596bcea7",
        "IPY_MODEL_71fcda2e008f46489f03ee2fc4ebe507",
        "IPY_MODEL_41c38b8ac76c4a128878e3ee674b0cf8"
       ],
       "layout": "IPY_MODEL_e43abf43e82c4693a3e4510779a5b02f"
      }
     },
     "71fcda2e008f46489f03ee2fc4ebe507": {
      "model_module": "@jupyter-widgets/controls",
      "model_module_version": "1.5.0",
      "model_name": "FloatProgressModel",
      "state": {
       "_dom_classes": [],
       "_model_module": "@jupyter-widgets/controls",
       "_model_module_version": "1.5.0",
       "_model_name": "FloatProgressModel",
       "_view_count": null,
       "_view_module": "@jupyter-widgets/controls",
       "_view_module_version": "1.5.0",
       "_view_name": "ProgressView",
       "bar_style": "success",
       "description": "",
       "description_tooltip": null,
       "layout": "IPY_MODEL_89582a3a526b4d94a8e1ffbf30da3fec",
       "max": 4919,
       "min": 0,
       "orientation": "horizontal",
       "style": "IPY_MODEL_b0fbc590626b44f1baa944dada54bce0",
       "value": 4919
      }
     },
     "783887e9841544e6bbf19a6d439ab1dd": {
      "model_module": "@jupyter-widgets/controls",
      "model_module_version": "1.5.0",
      "model_name": "DescriptionStyleModel",
      "state": {
       "_model_module": "@jupyter-widgets/controls",
       "_model_module_version": "1.5.0",
       "_model_name": "DescriptionStyleModel",
       "_view_count": null,
       "_view_module": "@jupyter-widgets/base",
       "_view_module_version": "1.2.0",
       "_view_name": "StyleView",
       "description_width": ""
      }
     },
     "7bd2f2b451ca4f669479f5f8aabce2fc": {
      "model_module": "@jupyter-widgets/controls",
      "model_module_version": "1.5.0",
      "model_name": "DescriptionStyleModel",
      "state": {
       "_model_module": "@jupyter-widgets/controls",
       "_model_module_version": "1.5.0",
       "_model_name": "DescriptionStyleModel",
       "_view_count": null,
       "_view_module": "@jupyter-widgets/base",
       "_view_module_version": "1.2.0",
       "_view_name": "StyleView",
       "description_width": ""
      }
     },
     "7f836dcceb14438e8c6cbb4c50e397de": {
      "model_module": "@jupyter-widgets/controls",
      "model_module_version": "1.5.0",
      "model_name": "FloatProgressModel",
      "state": {
       "_dom_classes": [],
       "_model_module": "@jupyter-widgets/controls",
       "_model_module_version": "1.5.0",
       "_model_name": "FloatProgressModel",
       "_view_count": null,
       "_view_module": "@jupyter-widgets/controls",
       "_view_module_version": "1.5.0",
       "_view_name": "ProgressView",
       "bar_style": "success",
       "description": "",
       "description_tooltip": null,
       "layout": "IPY_MODEL_38811bfacdee4189ace241d68e322507",
       "max": 4919,
       "min": 0,
       "orientation": "horizontal",
       "style": "IPY_MODEL_259ec7d5fc4b4a8ea866b1baf4672683",
       "value": 4919
      }
     },
     "80295802ef184c33a39071f008348016": {
      "model_module": "@jupyter-widgets/controls",
      "model_module_version": "1.5.0",
      "model_name": "DescriptionStyleModel",
      "state": {
       "_model_module": "@jupyter-widgets/controls",
       "_model_module_version": "1.5.0",
       "_model_name": "DescriptionStyleModel",
       "_view_count": null,
       "_view_module": "@jupyter-widgets/base",
       "_view_module_version": "1.2.0",
       "_view_name": "StyleView",
       "description_width": ""
      }
     },
     "812bb90ab51542709775b2a558d4411e": {
      "model_module": "@jupyter-widgets/base",
      "model_module_version": "1.2.0",
      "model_name": "LayoutModel",
      "state": {
       "_model_module": "@jupyter-widgets/base",
       "_model_module_version": "1.2.0",
       "_model_name": "LayoutModel",
       "_view_count": null,
       "_view_module": "@jupyter-widgets/base",
       "_view_module_version": "1.2.0",
       "_view_name": "LayoutView",
       "align_content": null,
       "align_items": null,
       "align_self": null,
       "border": null,
       "bottom": null,
       "display": null,
       "flex": null,
       "flex_flow": null,
       "grid_area": null,
       "grid_auto_columns": null,
       "grid_auto_flow": null,
       "grid_auto_rows": null,
       "grid_column": null,
       "grid_gap": null,
       "grid_row": null,
       "grid_template_areas": null,
       "grid_template_columns": null,
       "grid_template_rows": null,
       "height": null,
       "justify_content": null,
       "justify_items": null,
       "left": null,
       "margin": null,
       "max_height": null,
       "max_width": null,
       "min_height": null,
       "min_width": null,
       "object_fit": null,
       "object_position": null,
       "order": null,
       "overflow": null,
       "overflow_x": null,
       "overflow_y": null,
       "padding": null,
       "right": null,
       "top": null,
       "visibility": null,
       "width": null
      }
     },
     "817dc1a231df49358dd6dc1fbf83b2a1": {
      "model_module": "@jupyter-widgets/controls",
      "model_module_version": "1.5.0",
      "model_name": "HTMLModel",
      "state": {
       "_dom_classes": [],
       "_model_module": "@jupyter-widgets/controls",
       "_model_module_version": "1.5.0",
       "_model_name": "HTMLModel",
       "_view_count": null,
       "_view_module": "@jupyter-widgets/controls",
       "_view_module_version": "1.5.0",
       "_view_name": "HTMLView",
       "description": "",
       "description_tooltip": null,
       "layout": "IPY_MODEL_88d8766507bd40298453eaffb42c2766",
       "placeholder": "​",
       "style": "IPY_MODEL_ba4b5ac588484ad2bae0da04c319d3ca",
       "value": "100%"
      }
     },
     "84d8a2a47952423096325f8b7cac58b8": {
      "model_module": "@jupyter-widgets/controls",
      "model_module_version": "1.5.0",
      "model_name": "HBoxModel",
      "state": {
       "_dom_classes": [],
       "_model_module": "@jupyter-widgets/controls",
       "_model_module_version": "1.5.0",
       "_model_name": "HBoxModel",
       "_view_count": null,
       "_view_module": "@jupyter-widgets/controls",
       "_view_module_version": "1.5.0",
       "_view_name": "HBoxView",
       "box_style": "",
       "children": [
        "IPY_MODEL_b62dd0fbd9db4753b53c071ff3f8961e",
        "IPY_MODEL_45b0b300fc9c4a8c884231c1b5a4a1f0",
        "IPY_MODEL_182de473de8d414da17087a63a38dea6"
       ],
       "layout": "IPY_MODEL_900dec7f05d7496db7062d000ff60f00"
      }
     },
     "8575f4084d1a4cf2b1f891ba62a64f4c": {
      "model_module": "@jupyter-widgets/base",
      "model_module_version": "1.2.0",
      "model_name": "LayoutModel",
      "state": {
       "_model_module": "@jupyter-widgets/base",
       "_model_module_version": "1.2.0",
       "_model_name": "LayoutModel",
       "_view_count": null,
       "_view_module": "@jupyter-widgets/base",
       "_view_module_version": "1.2.0",
       "_view_name": "LayoutView",
       "align_content": null,
       "align_items": null,
       "align_self": null,
       "border": null,
       "bottom": null,
       "display": null,
       "flex": null,
       "flex_flow": null,
       "grid_area": null,
       "grid_auto_columns": null,
       "grid_auto_flow": null,
       "grid_auto_rows": null,
       "grid_column": null,
       "grid_gap": null,
       "grid_row": null,
       "grid_template_areas": null,
       "grid_template_columns": null,
       "grid_template_rows": null,
       "height": null,
       "justify_content": null,
       "justify_items": null,
       "left": null,
       "margin": null,
       "max_height": null,
       "max_width": null,
       "min_height": null,
       "min_width": null,
       "object_fit": null,
       "object_position": null,
       "order": null,
       "overflow": null,
       "overflow_x": null,
       "overflow_y": null,
       "padding": null,
       "right": null,
       "top": null,
       "visibility": null,
       "width": null
      }
     },
     "88d8766507bd40298453eaffb42c2766": {
      "model_module": "@jupyter-widgets/base",
      "model_module_version": "1.2.0",
      "model_name": "LayoutModel",
      "state": {
       "_model_module": "@jupyter-widgets/base",
       "_model_module_version": "1.2.0",
       "_model_name": "LayoutModel",
       "_view_count": null,
       "_view_module": "@jupyter-widgets/base",
       "_view_module_version": "1.2.0",
       "_view_name": "LayoutView",
       "align_content": null,
       "align_items": null,
       "align_self": null,
       "border": null,
       "bottom": null,
       "display": null,
       "flex": null,
       "flex_flow": null,
       "grid_area": null,
       "grid_auto_columns": null,
       "grid_auto_flow": null,
       "grid_auto_rows": null,
       "grid_column": null,
       "grid_gap": null,
       "grid_row": null,
       "grid_template_areas": null,
       "grid_template_columns": null,
       "grid_template_rows": null,
       "height": null,
       "justify_content": null,
       "justify_items": null,
       "left": null,
       "margin": null,
       "max_height": null,
       "max_width": null,
       "min_height": null,
       "min_width": null,
       "object_fit": null,
       "object_position": null,
       "order": null,
       "overflow": null,
       "overflow_x": null,
       "overflow_y": null,
       "padding": null,
       "right": null,
       "top": null,
       "visibility": null,
       "width": null
      }
     },
     "89582a3a526b4d94a8e1ffbf30da3fec": {
      "model_module": "@jupyter-widgets/base",
      "model_module_version": "1.2.0",
      "model_name": "LayoutModel",
      "state": {
       "_model_module": "@jupyter-widgets/base",
       "_model_module_version": "1.2.0",
       "_model_name": "LayoutModel",
       "_view_count": null,
       "_view_module": "@jupyter-widgets/base",
       "_view_module_version": "1.2.0",
       "_view_name": "LayoutView",
       "align_content": null,
       "align_items": null,
       "align_self": null,
       "border": null,
       "bottom": null,
       "display": null,
       "flex": null,
       "flex_flow": null,
       "grid_area": null,
       "grid_auto_columns": null,
       "grid_auto_flow": null,
       "grid_auto_rows": null,
       "grid_column": null,
       "grid_gap": null,
       "grid_row": null,
       "grid_template_areas": null,
       "grid_template_columns": null,
       "grid_template_rows": null,
       "height": null,
       "justify_content": null,
       "justify_items": null,
       "left": null,
       "margin": null,
       "max_height": null,
       "max_width": null,
       "min_height": null,
       "min_width": null,
       "object_fit": null,
       "object_position": null,
       "order": null,
       "overflow": null,
       "overflow_x": null,
       "overflow_y": null,
       "padding": null,
       "right": null,
       "top": null,
       "visibility": null,
       "width": null
      }
     },
     "8fdc3c5af3674754b9f9c1ef5a09657e": {
      "model_module": "@jupyter-widgets/base",
      "model_module_version": "1.2.0",
      "model_name": "LayoutModel",
      "state": {
       "_model_module": "@jupyter-widgets/base",
       "_model_module_version": "1.2.0",
       "_model_name": "LayoutModel",
       "_view_count": null,
       "_view_module": "@jupyter-widgets/base",
       "_view_module_version": "1.2.0",
       "_view_name": "LayoutView",
       "align_content": null,
       "align_items": null,
       "align_self": null,
       "border": null,
       "bottom": null,
       "display": null,
       "flex": null,
       "flex_flow": null,
       "grid_area": null,
       "grid_auto_columns": null,
       "grid_auto_flow": null,
       "grid_auto_rows": null,
       "grid_column": null,
       "grid_gap": null,
       "grid_row": null,
       "grid_template_areas": null,
       "grid_template_columns": null,
       "grid_template_rows": null,
       "height": null,
       "justify_content": null,
       "justify_items": null,
       "left": null,
       "margin": null,
       "max_height": null,
       "max_width": null,
       "min_height": null,
       "min_width": null,
       "object_fit": null,
       "object_position": null,
       "order": null,
       "overflow": null,
       "overflow_x": null,
       "overflow_y": null,
       "padding": null,
       "right": null,
       "top": null,
       "visibility": null,
       "width": null
      }
     },
     "900dec7f05d7496db7062d000ff60f00": {
      "model_module": "@jupyter-widgets/base",
      "model_module_version": "1.2.0",
      "model_name": "LayoutModel",
      "state": {
       "_model_module": "@jupyter-widgets/base",
       "_model_module_version": "1.2.0",
       "_model_name": "LayoutModel",
       "_view_count": null,
       "_view_module": "@jupyter-widgets/base",
       "_view_module_version": "1.2.0",
       "_view_name": "LayoutView",
       "align_content": null,
       "align_items": null,
       "align_self": null,
       "border": null,
       "bottom": null,
       "display": null,
       "flex": null,
       "flex_flow": null,
       "grid_area": null,
       "grid_auto_columns": null,
       "grid_auto_flow": null,
       "grid_auto_rows": null,
       "grid_column": null,
       "grid_gap": null,
       "grid_row": null,
       "grid_template_areas": null,
       "grid_template_columns": null,
       "grid_template_rows": null,
       "height": null,
       "justify_content": null,
       "justify_items": null,
       "left": null,
       "margin": null,
       "max_height": null,
       "max_width": null,
       "min_height": null,
       "min_width": null,
       "object_fit": null,
       "object_position": null,
       "order": null,
       "overflow": null,
       "overflow_x": null,
       "overflow_y": null,
       "padding": null,
       "right": null,
       "top": null,
       "visibility": null,
       "width": null
      }
     },
     "934e62b4603e40469e861b9990c22f6e": {
      "model_module": "@jupyter-widgets/controls",
      "model_module_version": "1.5.0",
      "model_name": "DescriptionStyleModel",
      "state": {
       "_model_module": "@jupyter-widgets/controls",
       "_model_module_version": "1.5.0",
       "_model_name": "DescriptionStyleModel",
       "_view_count": null,
       "_view_module": "@jupyter-widgets/base",
       "_view_module_version": "1.2.0",
       "_view_name": "StyleView",
       "description_width": ""
      }
     },
     "9791b03797b04bab9f6d49408f54d6c8": {
      "model_module": "@jupyter-widgets/controls",
      "model_module_version": "1.5.0",
      "model_name": "ProgressStyleModel",
      "state": {
       "_model_module": "@jupyter-widgets/controls",
       "_model_module_version": "1.5.0",
       "_model_name": "ProgressStyleModel",
       "_view_count": null,
       "_view_module": "@jupyter-widgets/base",
       "_view_module_version": "1.2.0",
       "_view_name": "StyleView",
       "bar_color": null,
       "description_width": ""
      }
     },
     "ae7311adf54a49569590547152bdced7": {
      "model_module": "@jupyter-widgets/controls",
      "model_module_version": "1.5.0",
      "model_name": "ProgressStyleModel",
      "state": {
       "_model_module": "@jupyter-widgets/controls",
       "_model_module_version": "1.5.0",
       "_model_name": "ProgressStyleModel",
       "_view_count": null,
       "_view_module": "@jupyter-widgets/base",
       "_view_module_version": "1.2.0",
       "_view_name": "StyleView",
       "bar_color": null,
       "description_width": ""
      }
     },
     "b0fbc590626b44f1baa944dada54bce0": {
      "model_module": "@jupyter-widgets/controls",
      "model_module_version": "1.5.0",
      "model_name": "ProgressStyleModel",
      "state": {
       "_model_module": "@jupyter-widgets/controls",
       "_model_module_version": "1.5.0",
       "_model_name": "ProgressStyleModel",
       "_view_count": null,
       "_view_module": "@jupyter-widgets/base",
       "_view_module_version": "1.2.0",
       "_view_name": "StyleView",
       "bar_color": null,
       "description_width": ""
      }
     },
     "b62dd0fbd9db4753b53c071ff3f8961e": {
      "model_module": "@jupyter-widgets/controls",
      "model_module_version": "1.5.0",
      "model_name": "HTMLModel",
      "state": {
       "_dom_classes": [],
       "_model_module": "@jupyter-widgets/controls",
       "_model_module_version": "1.5.0",
       "_model_name": "HTMLModel",
       "_view_count": null,
       "_view_module": "@jupyter-widgets/controls",
       "_view_module_version": "1.5.0",
       "_view_name": "HTMLView",
       "description": "",
       "description_tooltip": null,
       "layout": "IPY_MODEL_2541338dd29c4c3d874efccc653eef55",
       "placeholder": "​",
       "style": "IPY_MODEL_64f85049ba1b4ef29f23e08b997480a5",
       "value": "100%"
      }
     },
     "ba4b5ac588484ad2bae0da04c319d3ca": {
      "model_module": "@jupyter-widgets/controls",
      "model_module_version": "1.5.0",
      "model_name": "DescriptionStyleModel",
      "state": {
       "_model_module": "@jupyter-widgets/controls",
       "_model_module_version": "1.5.0",
       "_model_name": "DescriptionStyleModel",
       "_view_count": null,
       "_view_module": "@jupyter-widgets/base",
       "_view_module_version": "1.2.0",
       "_view_name": "StyleView",
       "description_width": ""
      }
     },
     "bf35d6f43e28456aa4dc5f5c3ebf5c91": {
      "model_module": "@jupyter-widgets/controls",
      "model_module_version": "1.5.0",
      "model_name": "DescriptionStyleModel",
      "state": {
       "_model_module": "@jupyter-widgets/controls",
       "_model_module_version": "1.5.0",
       "_model_name": "DescriptionStyleModel",
       "_view_count": null,
       "_view_module": "@jupyter-widgets/base",
       "_view_module_version": "1.2.0",
       "_view_name": "StyleView",
       "description_width": ""
      }
     },
     "dfbcc7e6427a44d0b1305fa78a5d8524": {
      "model_module": "@jupyter-widgets/controls",
      "model_module_version": "1.5.0",
      "model_name": "HTMLModel",
      "state": {
       "_dom_classes": [],
       "_model_module": "@jupyter-widgets/controls",
       "_model_module_version": "1.5.0",
       "_model_name": "HTMLModel",
       "_view_count": null,
       "_view_module": "@jupyter-widgets/controls",
       "_view_module_version": "1.5.0",
       "_view_name": "HTMLView",
       "description": "",
       "description_tooltip": null,
       "layout": "IPY_MODEL_62f8219418724ba19e3049a878665362",
       "placeholder": "​",
       "style": "IPY_MODEL_7bd2f2b451ca4f669479f5f8aabce2fc",
       "value": "100%"
      }
     },
     "e06137577b0643bf9a70bcbe3724e996": {
      "model_module": "@jupyter-widgets/base",
      "model_module_version": "1.2.0",
      "model_name": "LayoutModel",
      "state": {
       "_model_module": "@jupyter-widgets/base",
       "_model_module_version": "1.2.0",
       "_model_name": "LayoutModel",
       "_view_count": null,
       "_view_module": "@jupyter-widgets/base",
       "_view_module_version": "1.2.0",
       "_view_name": "LayoutView",
       "align_content": null,
       "align_items": null,
       "align_self": null,
       "border": null,
       "bottom": null,
       "display": null,
       "flex": null,
       "flex_flow": null,
       "grid_area": null,
       "grid_auto_columns": null,
       "grid_auto_flow": null,
       "grid_auto_rows": null,
       "grid_column": null,
       "grid_gap": null,
       "grid_row": null,
       "grid_template_areas": null,
       "grid_template_columns": null,
       "grid_template_rows": null,
       "height": null,
       "justify_content": null,
       "justify_items": null,
       "left": null,
       "margin": null,
       "max_height": null,
       "max_width": null,
       "min_height": null,
       "min_width": null,
       "object_fit": null,
       "object_position": null,
       "order": null,
       "overflow": null,
       "overflow_x": null,
       "overflow_y": null,
       "padding": null,
       "right": null,
       "top": null,
       "visibility": null,
       "width": null
      }
     },
     "e43abf43e82c4693a3e4510779a5b02f": {
      "model_module": "@jupyter-widgets/base",
      "model_module_version": "1.2.0",
      "model_name": "LayoutModel",
      "state": {
       "_model_module": "@jupyter-widgets/base",
       "_model_module_version": "1.2.0",
       "_model_name": "LayoutModel",
       "_view_count": null,
       "_view_module": "@jupyter-widgets/base",
       "_view_module_version": "1.2.0",
       "_view_name": "LayoutView",
       "align_content": null,
       "align_items": null,
       "align_self": null,
       "border": null,
       "bottom": null,
       "display": null,
       "flex": null,
       "flex_flow": null,
       "grid_area": null,
       "grid_auto_columns": null,
       "grid_auto_flow": null,
       "grid_auto_rows": null,
       "grid_column": null,
       "grid_gap": null,
       "grid_row": null,
       "grid_template_areas": null,
       "grid_template_columns": null,
       "grid_template_rows": null,
       "height": null,
       "justify_content": null,
       "justify_items": null,
       "left": null,
       "margin": null,
       "max_height": null,
       "max_width": null,
       "min_height": null,
       "min_width": null,
       "object_fit": null,
       "object_position": null,
       "order": null,
       "overflow": null,
       "overflow_x": null,
       "overflow_y": null,
       "padding": null,
       "right": null,
       "top": null,
       "visibility": null,
       "width": null
      }
     },
     "ee8579befcdd41748e9f450a4af9f426": {
      "model_module": "@jupyter-widgets/base",
      "model_module_version": "1.2.0",
      "model_name": "LayoutModel",
      "state": {
       "_model_module": "@jupyter-widgets/base",
       "_model_module_version": "1.2.0",
       "_model_name": "LayoutModel",
       "_view_count": null,
       "_view_module": "@jupyter-widgets/base",
       "_view_module_version": "1.2.0",
       "_view_name": "LayoutView",
       "align_content": null,
       "align_items": null,
       "align_self": null,
       "border": null,
       "bottom": null,
       "display": null,
       "flex": null,
       "flex_flow": null,
       "grid_area": null,
       "grid_auto_columns": null,
       "grid_auto_flow": null,
       "grid_auto_rows": null,
       "grid_column": null,
       "grid_gap": null,
       "grid_row": null,
       "grid_template_areas": null,
       "grid_template_columns": null,
       "grid_template_rows": null,
       "height": null,
       "justify_content": null,
       "justify_items": null,
       "left": null,
       "margin": null,
       "max_height": null,
       "max_width": null,
       "min_height": null,
       "min_width": null,
       "object_fit": null,
       "object_position": null,
       "order": null,
       "overflow": null,
       "overflow_x": null,
       "overflow_y": null,
       "padding": null,
       "right": null,
       "top": null,
       "visibility": null,
       "width": null
      }
     },
     "f732d84f215d4a6ca25fe14fcccff41c": {
      "model_module": "@jupyter-widgets/controls",
      "model_module_version": "1.5.0",
      "model_name": "HBoxModel",
      "state": {
       "_dom_classes": [],
       "_model_module": "@jupyter-widgets/controls",
       "_model_module_version": "1.5.0",
       "_model_name": "HBoxModel",
       "_view_count": null,
       "_view_module": "@jupyter-widgets/controls",
       "_view_module_version": "1.5.0",
       "_view_name": "HBoxView",
       "box_style": "",
       "children": [
        "IPY_MODEL_817dc1a231df49358dd6dc1fbf83b2a1",
        "IPY_MODEL_7f836dcceb14438e8c6cbb4c50e397de",
        "IPY_MODEL_1ea62d0784fd4a8390e68bbe87487143"
       ],
       "layout": "IPY_MODEL_e06137577b0643bf9a70bcbe3724e996"
      }
     }
    },
    "version_major": 2,
    "version_minor": 0
   }
  }
 },
 "nbformat": 4,
 "nbformat_minor": 5
}

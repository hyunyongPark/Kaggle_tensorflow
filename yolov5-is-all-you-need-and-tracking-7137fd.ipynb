{
 "cells": [
  {
   "cell_type": "markdown",
   "id": "7365241e",
   "metadata": {
    "execution": {
     "iopub.execute_input": "2022-01-28T23:48:48.560337Z",
     "iopub.status.busy": "2022-01-28T23:48:48.560053Z",
     "iopub.status.idle": "2022-01-28T23:48:48.591112Z",
     "shell.execute_reply": "2022-01-28T23:48:48.589513Z",
     "shell.execute_reply.started": "2022-01-28T23:48:48.560254Z"
    },
    "papermill": {
     "duration": 0.012697,
     "end_time": "2022-02-11T02:43:03.536202",
     "exception": false,
     "start_time": "2022-02-11T02:43:03.523505",
     "status": "completed"
    },
    "tags": []
   },
   "source": [
    "## Ref\n",
    "* https://www.kaggle.com/steamedsheep/yolov5-is-all-you-need\n",
    "* https://www.kaggle.com/parapapapam/yolox-inference-tracking-on-cots-lb-0-539\n",
    "* https://www.kaggle.com/awsaf49/great-barrier-reef-yolov5-infer"
   ]
  },
  {
   "cell_type": "code",
   "execution_count": 1,
   "id": "645cec76",
   "metadata": {
    "execution": {
     "iopub.execute_input": "2022-02-11T02:43:03.572959Z",
     "iopub.status.busy": "2022-02-11T02:43:03.572178Z",
     "iopub.status.idle": "2022-02-11T02:43:04.945020Z",
     "shell.execute_reply": "2022-02-11T02:43:04.944084Z",
     "shell.execute_reply.started": "2022-01-14T06:11:48.18032Z"
    },
    "papermill": {
     "duration": 1.39603,
     "end_time": "2022-02-11T02:43:04.945171",
     "exception": false,
     "start_time": "2022-02-11T02:43:03.549141",
     "status": "completed"
    },
    "tags": []
   },
   "outputs": [],
   "source": [
    "!mkdir -p /root/.config/Ultralytics\n",
    "!cp /kaggle/input/yolov5-font/Arial.ttf /root/.config/Ultralytics/"
   ]
  },
  {
   "cell_type": "code",
   "execution_count": 2,
   "id": "e722cdfd",
   "metadata": {
    "execution": {
     "iopub.execute_input": "2022-02-11T02:43:04.986622Z",
     "iopub.status.busy": "2022-02-11T02:43:04.975865Z",
     "iopub.status.idle": "2022-02-11T02:44:19.569443Z",
     "shell.execute_reply": "2022-02-11T02:44:19.568892Z",
     "shell.execute_reply.started": "2022-01-14T06:11:49.694394Z"
    },
    "papermill": {
     "duration": 74.613127,
     "end_time": "2022-02-11T02:44:19.569610",
     "exception": false,
     "start_time": "2022-02-11T02:43:04.956483",
     "status": "completed"
    },
    "tags": []
   },
   "outputs": [
    {
     "name": "stdout",
     "output_type": "stream",
     "text": [
      "/kaggle/input/norfair031py3\n",
      "Looking in links: ./\r\n",
      "Processing ./commonmark-0.9.1-py2.py3-none-any.whl\r\n",
      "Installing collected packages: commonmark\r\n",
      "Successfully installed commonmark-0.9.1\r\n",
      "\u001b[33mWARNING: Running pip as the 'root' user can result in broken permissions and conflicting behaviour with the system package manager. It is recommended to use a virtual environment instead: https://pip.pypa.io/warnings/venv\u001b[0m\r\n",
      "Processing ./rich-9.13.0-py3-none-any.whl\r\n",
      "Requirement already satisfied: pygments<3.0.0,>=2.6.0 in /opt/conda/lib/python3.7/site-packages (from rich==9.13.0) (2.10.0)\r\n",
      "Requirement already satisfied: typing-extensions<4.0.0,>=3.7.4 in /opt/conda/lib/python3.7/site-packages (from rich==9.13.0) (3.10.0.2)\r\n",
      "Requirement already satisfied: commonmark<0.10.0,>=0.9.0 in /opt/conda/lib/python3.7/site-packages (from rich==9.13.0) (0.9.1)\r\n",
      "Requirement already satisfied: colorama<0.5.0,>=0.4.0 in /opt/conda/lib/python3.7/site-packages (from rich==9.13.0) (0.4.4)\r\n",
      "Installing collected packages: rich\r\n",
      "Successfully installed rich-9.13.0\r\n",
      "\u001b[33mWARNING: Running pip as the 'root' user can result in broken permissions and conflicting behaviour with the system package manager. It is recommended to use a virtual environment instead: https://pip.pypa.io/warnings/venv\u001b[0m\r\n",
      "/kaggle/working/tmp/filterpy-1.4.5\n",
      "Processing /kaggle/working/tmp/filterpy-1.4.5\r\n",
      "  Preparing metadata (setup.py) ... \u001b[?25l-\b \bdone\r\n",
      "\u001b[?25hRequirement already satisfied: numpy in /opt/conda/lib/python3.7/site-packages (from filterpy==1.4.5) (1.19.5)\r\n",
      "Requirement already satisfied: scipy in /opt/conda/lib/python3.7/site-packages (from filterpy==1.4.5) (1.7.2)\r\n",
      "Requirement already satisfied: matplotlib in /opt/conda/lib/python3.7/site-packages (from filterpy==1.4.5) (3.5.0)\r\n",
      "Requirement already satisfied: pillow>=6.2.0 in /opt/conda/lib/python3.7/site-packages (from matplotlib->filterpy==1.4.5) (8.2.0)\r\n",
      "Requirement already satisfied: cycler>=0.10 in /opt/conda/lib/python3.7/site-packages (from matplotlib->filterpy==1.4.5) (0.11.0)\r\n",
      "Requirement already satisfied: python-dateutil>=2.7 in /opt/conda/lib/python3.7/site-packages (from matplotlib->filterpy==1.4.5) (2.8.0)\r\n",
      "Requirement already satisfied: fonttools>=4.22.0 in /opt/conda/lib/python3.7/site-packages (from matplotlib->filterpy==1.4.5) (4.28.2)\r\n",
      "Requirement already satisfied: packaging>=20.0 in /opt/conda/lib/python3.7/site-packages (from matplotlib->filterpy==1.4.5) (21.0)\r\n",
      "Requirement already satisfied: setuptools-scm>=4 in /opt/conda/lib/python3.7/site-packages (from matplotlib->filterpy==1.4.5) (6.3.2)\r\n",
      "Requirement already satisfied: kiwisolver>=1.0.1 in /opt/conda/lib/python3.7/site-packages (from matplotlib->filterpy==1.4.5) (1.3.2)\r\n",
      "Requirement already satisfied: pyparsing>=2.2.1 in /opt/conda/lib/python3.7/site-packages (from matplotlib->filterpy==1.4.5) (3.0.6)\r\n",
      "Requirement already satisfied: six>=1.5 in /opt/conda/lib/python3.7/site-packages (from python-dateutil>=2.7->matplotlib->filterpy==1.4.5) (1.16.0)\r\n",
      "Requirement already satisfied: setuptools in /opt/conda/lib/python3.7/site-packages (from setuptools-scm>=4->matplotlib->filterpy==1.4.5) (59.1.1)\r\n",
      "Requirement already satisfied: tomli>=1.0.0 in /opt/conda/lib/python3.7/site-packages (from setuptools-scm>=4->matplotlib->filterpy==1.4.5) (1.2.2)\r\n",
      "Building wheels for collected packages: filterpy\r\n",
      "  Building wheel for filterpy (setup.py) ... \u001b[?25l-\b \b\\\b \bdone\r\n",
      "\u001b[?25h  Created wheel for filterpy: filename=filterpy-1.4.5-py3-none-any.whl size=110474 sha256=bf6c2bcd5f4cba43dd04605b06fb0d9a7fb2c842d4dbccb9dfa939fb611130c0\r\n",
      "  Stored in directory: /root/.cache/pip/wheels/0e/ba/6d/20557ee403bc0c849d9fe3b358ded9918d7d2b0c5b0253fc99\r\n",
      "Successfully built filterpy\r\n",
      "Installing collected packages: filterpy\r\n",
      "Successfully installed filterpy-1.4.5\r\n",
      "\u001b[33mWARNING: Running pip as the 'root' user can result in broken permissions and conflicting behaviour with the system package manager. It is recommended to use a virtual environment instead: https://pip.pypa.io/warnings/venv\u001b[0m\r\n",
      "/kaggle/input/norfair031py3\n",
      "Looking in links: ./\r\n",
      "Processing ./norfair-0.3.1-py3-none-any.whl\r\n",
      "Requirement already satisfied: rich<10.0.0,>=9.10.0 in /opt/conda/lib/python3.7/site-packages (from norfair==0.3.1) (9.13.0)\r\n",
      "Requirement already satisfied: filterpy<2.0.0,>=1.4.5 in /opt/conda/lib/python3.7/site-packages (from norfair==0.3.1) (1.4.5)\r\n",
      "Requirement already satisfied: scipy in /opt/conda/lib/python3.7/site-packages (from filterpy<2.0.0,>=1.4.5->norfair==0.3.1) (1.7.2)\r\n",
      "Requirement already satisfied: matplotlib in /opt/conda/lib/python3.7/site-packages (from filterpy<2.0.0,>=1.4.5->norfair==0.3.1) (3.5.0)\r\n",
      "Requirement already satisfied: numpy in /opt/conda/lib/python3.7/site-packages (from filterpy<2.0.0,>=1.4.5->norfair==0.3.1) (1.19.5)\r\n",
      "Requirement already satisfied: pygments<3.0.0,>=2.6.0 in /opt/conda/lib/python3.7/site-packages (from rich<10.0.0,>=9.10.0->norfair==0.3.1) (2.10.0)\r\n",
      "Requirement already satisfied: typing-extensions<4.0.0,>=3.7.4 in /opt/conda/lib/python3.7/site-packages (from rich<10.0.0,>=9.10.0->norfair==0.3.1) (3.10.0.2)\r\n",
      "Requirement already satisfied: commonmark<0.10.0,>=0.9.0 in /opt/conda/lib/python3.7/site-packages (from rich<10.0.0,>=9.10.0->norfair==0.3.1) (0.9.1)\r\n",
      "Requirement already satisfied: colorama<0.5.0,>=0.4.0 in /opt/conda/lib/python3.7/site-packages (from rich<10.0.0,>=9.10.0->norfair==0.3.1) (0.4.4)\r\n",
      "Requirement already satisfied: setuptools-scm>=4 in /opt/conda/lib/python3.7/site-packages (from matplotlib->filterpy<2.0.0,>=1.4.5->norfair==0.3.1) (6.3.2)\r\n",
      "Requirement already satisfied: pillow>=6.2.0 in /opt/conda/lib/python3.7/site-packages (from matplotlib->filterpy<2.0.0,>=1.4.5->norfair==0.3.1) (8.2.0)\r\n",
      "Requirement already satisfied: cycler>=0.10 in /opt/conda/lib/python3.7/site-packages (from matplotlib->filterpy<2.0.0,>=1.4.5->norfair==0.3.1) (0.11.0)\r\n",
      "Requirement already satisfied: kiwisolver>=1.0.1 in /opt/conda/lib/python3.7/site-packages (from matplotlib->filterpy<2.0.0,>=1.4.5->norfair==0.3.1) (1.3.2)\r\n",
      "Requirement already satisfied: pyparsing>=2.2.1 in /opt/conda/lib/python3.7/site-packages (from matplotlib->filterpy<2.0.0,>=1.4.5->norfair==0.3.1) (3.0.6)\r\n",
      "Requirement already satisfied: python-dateutil>=2.7 in /opt/conda/lib/python3.7/site-packages (from matplotlib->filterpy<2.0.0,>=1.4.5->norfair==0.3.1) (2.8.0)\r\n",
      "Requirement already satisfied: fonttools>=4.22.0 in /opt/conda/lib/python3.7/site-packages (from matplotlib->filterpy<2.0.0,>=1.4.5->norfair==0.3.1) (4.28.2)\r\n",
      "Requirement already satisfied: packaging>=20.0 in /opt/conda/lib/python3.7/site-packages (from matplotlib->filterpy<2.0.0,>=1.4.5->norfair==0.3.1) (21.0)\r\n",
      "Requirement already satisfied: six>=1.5 in /opt/conda/lib/python3.7/site-packages (from python-dateutil>=2.7->matplotlib->filterpy<2.0.0,>=1.4.5->norfair==0.3.1) (1.16.0)\r\n",
      "Requirement already satisfied: tomli>=1.0.0 in /opt/conda/lib/python3.7/site-packages (from setuptools-scm>=4->matplotlib->filterpy<2.0.0,>=1.4.5->norfair==0.3.1) (1.2.2)\r\n",
      "Requirement already satisfied: setuptools in /opt/conda/lib/python3.7/site-packages (from setuptools-scm>=4->matplotlib->filterpy<2.0.0,>=1.4.5->norfair==0.3.1) (59.1.1)\r\n",
      "Installing collected packages: norfair\r\n",
      "Successfully installed norfair-0.3.1\r\n",
      "\u001b[33mWARNING: Running pip as the 'root' user can result in broken permissions and conflicting behaviour with the system package manager. It is recommended to use a virtual environment instead: https://pip.pypa.io/warnings/venv\u001b[0m\r\n"
     ]
    }
   ],
   "source": [
    "%cd /kaggle/input/norfair031py3/\n",
    "!pip install commonmark-0.9.1-py2.py3-none-any.whl -f ./ --no-index\n",
    "!pip install rich-9.13.0-py3-none-any.whl\n",
    "\n",
    "!mkdir /kaggle/working/tmp\n",
    "!cp -r /kaggle/input/norfair031py3/filterpy-1.4.5/filterpy-1.4.5/ /kaggle/working/tmp/\n",
    "%cd /kaggle/working/tmp/filterpy-1.4.5/\n",
    "!pip install .\n",
    "!rm -rf /kaggle/working/tmp\n",
    "\n",
    "# norfair\n",
    "%cd /kaggle/input/norfair031py3/\n",
    "!pip install norfair-0.3.1-py3-none-any.whl -f ./ --no-index"
   ]
  },
  {
   "cell_type": "code",
   "execution_count": 3,
   "id": "ba4ccfff",
   "metadata": {
    "execution": {
     "iopub.execute_input": "2022-02-11T02:44:19.619728Z",
     "iopub.status.busy": "2022-02-11T02:44:19.618775Z",
     "iopub.status.idle": "2022-02-11T02:44:19.622603Z",
     "shell.execute_reply": "2022-02-11T02:44:19.623058Z",
     "shell.execute_reply.started": "2022-01-14T06:13:04.13472Z"
    },
    "papermill": {
     "duration": 0.031718,
     "end_time": "2022-02-11T02:44:19.623206",
     "exception": false,
     "start_time": "2022-02-11T02:44:19.591488",
     "status": "completed"
    },
    "tags": []
   },
   "outputs": [
    {
     "name": "stdout",
     "output_type": "stream",
     "text": [
      "/kaggle/working\n"
     ]
    }
   ],
   "source": [
    "%cd /kaggle/working/"
   ]
  },
  {
   "cell_type": "code",
   "execution_count": 4,
   "id": "0e07617d",
   "metadata": {
    "execution": {
     "iopub.execute_input": "2022-02-11T02:44:19.665820Z",
     "iopub.status.busy": "2022-02-11T02:44:19.664994Z",
     "iopub.status.idle": "2022-02-11T02:44:23.452880Z",
     "shell.execute_reply": "2022-02-11T02:44:23.452057Z",
     "shell.execute_reply.started": "2022-01-14T06:13:04.145505Z"
    },
    "papermill": {
     "duration": 3.811857,
     "end_time": "2022-02-11T02:44:23.453044",
     "exception": false,
     "start_time": "2022-02-11T02:44:19.641187",
     "status": "completed"
    },
    "tags": []
   },
   "outputs": [],
   "source": [
    "import numpy as np\n",
    "from tqdm.notebook import tqdm\n",
    "tqdm.pandas()\n",
    "import pandas as pd\n",
    "import os\n",
    "import cv2\n",
    "import matplotlib.pyplot as plt\n",
    "import glob\n",
    "import shutil\n",
    "import sys\n",
    "sys.path.append('../input/tensorflow-great-barrier-reef')\n",
    "import torch\n",
    "from PIL import Image\n",
    "import ast\n",
    "import albumentations as albu\n",
    "from norfair import Detection, Tracker"
   ]
  },
  {
   "cell_type": "code",
   "execution_count": 5,
   "id": "2f76d86a",
   "metadata": {
    "execution": {
     "iopub.execute_input": "2022-02-11T02:44:23.498216Z",
     "iopub.status.busy": "2022-02-11T02:44:23.497351Z",
     "iopub.status.idle": "2022-02-11T02:44:23.499220Z",
     "shell.execute_reply": "2022-02-11T02:44:23.499615Z",
     "shell.execute_reply.started": "2022-01-14T06:13:07.77325Z"
    },
    "papermill": {
     "duration": 0.025561,
     "end_time": "2022-02-11T02:44:23.499749",
     "exception": false,
     "start_time": "2022-02-11T02:44:23.474188",
     "status": "completed"
    },
    "tags": []
   },
   "outputs": [],
   "source": [
    "# ROOT_DIR  = '/kaggle/input/tensorflow-great-barrier-reef/'\n",
    "# CKPT_PATH = '../input/yolov5m-rect-stratify-split/best(40).pt'\n",
    "IMG_SIZE  = 9000\n",
    "CONF      = 0.3\n",
    "IOU       = 0.35\n",
    "AUGMENT   = True\n",
    "FDA_aug = False"
   ]
  },
  {
   "cell_type": "code",
   "execution_count": 6,
   "id": "746c5913",
   "metadata": {
    "execution": {
     "iopub.execute_input": "2022-02-11T02:44:23.573598Z",
     "iopub.status.busy": "2022-02-11T02:44:23.559782Z",
     "iopub.status.idle": "2022-02-11T02:44:23.575863Z",
     "shell.execute_reply": "2022-02-11T02:44:23.575400Z",
     "shell.execute_reply.started": "2022-01-14T06:13:07.782035Z"
    },
    "papermill": {
     "duration": 0.058364,
     "end_time": "2022-02-11T02:44:23.575983",
     "exception": false,
     "start_time": "2022-02-11T02:44:23.517619",
     "status": "completed"
    },
    "tags": []
   },
   "outputs": [],
   "source": [
    "def voc2yolo(bboxes, image_height=720, image_width=1280):\n",
    "    \"\"\"\n",
    "    voc  => [x1, y1, x2, y1]\n",
    "    yolo => [xmid, ymid, w, h] (normalized)\n",
    "    \"\"\"\n",
    "    \n",
    "    bboxes = bboxes.copy().astype(float) # otherwise all value will be 0 as voc_pascal dtype is np.int\n",
    "    \n",
    "    bboxes[..., [0, 2]] = bboxes[..., [0, 2]]/ image_width\n",
    "    bboxes[..., [1, 3]] = bboxes[..., [1, 3]]/ image_height\n",
    "    \n",
    "    w = bboxes[..., 2] - bboxes[..., 0]\n",
    "    h = bboxes[..., 3] - bboxes[..., 1]\n",
    "    \n",
    "    bboxes[..., 0] = bboxes[..., 0] + w/2\n",
    "    bboxes[..., 1] = bboxes[..., 1] + h/2\n",
    "    bboxes[..., 2] = w\n",
    "    bboxes[..., 3] = h\n",
    "    \n",
    "    return bboxes\n",
    "\n",
    "def yolo2voc(bboxes, image_height=720, image_width=1280):\n",
    "    \"\"\"\n",
    "    yolo => [xmid, ymid, w, h] (normalized)\n",
    "    voc  => [x1, y1, x2, y1]\n",
    "    \n",
    "    \"\"\" \n",
    "    bboxes = bboxes.copy().astype(float) # otherwise all value will be 0 as voc_pascal dtype is np.int\n",
    "    \n",
    "    bboxes[..., [0, 2]] = bboxes[..., [0, 2]]* image_width\n",
    "    bboxes[..., [1, 3]] = bboxes[..., [1, 3]]* image_height\n",
    "    \n",
    "    bboxes[..., [0, 1]] = bboxes[..., [0, 1]] - bboxes[..., [2, 3]]/2\n",
    "    bboxes[..., [2, 3]] = bboxes[..., [0, 1]] + bboxes[..., [2, 3]]\n",
    "    \n",
    "    return bboxes\n",
    "\n",
    "def coco2yolo(bboxes, image_height=720, image_width=1280):\n",
    "    \"\"\"\n",
    "    coco => [xmin, ymin, w, h]\n",
    "    yolo => [xmid, ymid, w, h] (normalized)\n",
    "    \"\"\"\n",
    "    \n",
    "    bboxes = bboxes.copy().astype(float) # otherwise all value will be 0 as voc_pascal dtype is np.int\n",
    "    \n",
    "    # normolizinig\n",
    "    bboxes[..., [0, 2]]= bboxes[..., [0, 2]]/ image_width\n",
    "    bboxes[..., [1, 3]]= bboxes[..., [1, 3]]/ image_height\n",
    "    \n",
    "    # converstion (xmin, ymin) => (xmid, ymid)\n",
    "    bboxes[..., [0, 1]] = bboxes[..., [0, 1]] + bboxes[..., [2, 3]]/2\n",
    "    \n",
    "    return bboxes\n",
    "\n",
    "def yolo2coco(bboxes, image_height=720, image_width=1280):\n",
    "    \"\"\"\n",
    "    yolo => [xmid, ymid, w, h] (normalized)\n",
    "    coco => [xmin, ymin, w, h]\n",
    "    \n",
    "    \"\"\" \n",
    "    bboxes = bboxes.copy().astype(float) # otherwise all value will be 0 as voc_pascal dtype is np.int\n",
    "    \n",
    "    # denormalizing\n",
    "    bboxes[..., [0, 2]]= bboxes[..., [0, 2]]* image_width\n",
    "    bboxes[..., [1, 3]]= bboxes[..., [1, 3]]* image_height\n",
    "    \n",
    "    # converstion (xmid, ymid) => (xmin, ymin) \n",
    "    bboxes[..., [0, 1]] = bboxes[..., [0, 1]] - bboxes[..., [2, 3]]/2\n",
    "    \n",
    "    return bboxes\n",
    "\n",
    "def voc2coco(bboxes, image_height=720, image_width=1280):\n",
    "    bboxes  = voc2yolo(bboxes, image_height, image_width)\n",
    "    bboxes  = yolo2coco(bboxes, image_height, image_width)\n",
    "    return bboxes\n",
    "\n",
    "def load_image(image_path):\n",
    "    return cv2.cvtColor(cv2.imread(image_path), cv2.COLOR_BGR2RGB)\n",
    "\n",
    "\n",
    "def plot_one_box(x, img, color=None, label=None, line_thickness=None):\n",
    "    # Plots one bounding box on image img\n",
    "    tl = line_thickness or round(0.002 * (img.shape[0] + img.shape[1]) / 2) + 1  # line/font thickness\n",
    "    color = color or [random.randint(0, 255) for _ in range(3)]\n",
    "    c1, c2 = (int(x[0]), int(x[1])), (int(x[2]), int(x[3]))\n",
    "    cv2.rectangle(img, c1, c2, color, thickness=tl, lineType=cv2.LINE_AA)\n",
    "    if label:\n",
    "        tf = max(tl - 1, 1)  # font thickness\n",
    "        t_size = cv2.getTextSize(label, 0, fontScale=tl / 3, thickness=tf)[0]\n",
    "        c2 = c1[0] + t_size[0], c1[1] - t_size[1] - 3\n",
    "        cv2.rectangle(img, c1, c2, color, -1, cv2.LINE_AA)  # filled\n",
    "        cv2.putText(img, label, (c1[0], c1[1] - 2), 0, tl / 3, [225, 255, 255], thickness=tf, lineType=cv2.LINE_AA)\n",
    "\n",
    "def draw_bboxes(img, bboxes, classes, class_ids, colors = None, show_classes = None, bbox_format = 'yolo', class_name = False, line_thickness = 2):  \n",
    "     \n",
    "    image = img.copy()\n",
    "    show_classes = classes if show_classes is None else show_classes\n",
    "    colors = (0, 255 ,0) if colors is None else colors\n",
    "    \n",
    "    if bbox_format == 'yolo':\n",
    "        \n",
    "        for idx in range(len(bboxes)):  \n",
    "            \n",
    "            bbox  = bboxes[idx]\n",
    "            cls   = classes[idx]\n",
    "            cls_id = class_ids[idx]\n",
    "            color = colors[cls_id] if type(colors) is list else colors\n",
    "            \n",
    "            if cls in show_classes:\n",
    "            \n",
    "                x1 = round(float(bbox[0])*image.shape[1])\n",
    "                y1 = round(float(bbox[1])*image.shape[0])\n",
    "                w  = round(float(bbox[2])*image.shape[1]/2) #w/2 \n",
    "                h  = round(float(bbox[3])*image.shape[0]/2)\n",
    "\n",
    "                voc_bbox = (x1-w, y1-h, x1+w, y1+h)\n",
    "                plot_one_box(voc_bbox, \n",
    "                             image,\n",
    "                             color = color,\n",
    "                             label = cls if class_name else str(get_label(cls)),\n",
    "                             line_thickness = line_thickness)\n",
    "            \n",
    "    elif bbox_format == 'coco':\n",
    "        \n",
    "        for idx in range(len(bboxes)):  \n",
    "            \n",
    "            bbox  = bboxes[idx]\n",
    "            cls   = classes[idx]\n",
    "            cls_id = class_ids[idx]\n",
    "            color = colors[cls_id] if type(colors) is list else colors\n",
    "            \n",
    "            if cls in show_classes:            \n",
    "                x1 = int(round(bbox[0]))\n",
    "                y1 = int(round(bbox[1]))\n",
    "                w  = int(round(bbox[2]))\n",
    "                h  = int(round(bbox[3]))\n",
    "\n",
    "                voc_bbox = (x1, y1, x1+w, y1+h)\n",
    "                plot_one_box(voc_bbox, \n",
    "                             image,\n",
    "                             color = color,\n",
    "                             label = cls if class_name else str(cls_id),\n",
    "                             line_thickness = line_thickness)\n",
    "\n",
    "    elif bbox_format == 'voc_pascal':\n",
    "        \n",
    "        for idx in range(len(bboxes)):  \n",
    "            \n",
    "            bbox  = bboxes[idx]\n",
    "            cls   = classes[idx]\n",
    "            cls_id = class_ids[idx]\n",
    "            color = colors[cls_id] if type(colors) is list else colors\n",
    "            \n",
    "            if cls in show_classes: \n",
    "                x1 = int(round(bbox[0]))\n",
    "                y1 = int(round(bbox[1]))\n",
    "                x2 = int(round(bbox[2]))\n",
    "                y2 = int(round(bbox[3]))\n",
    "                voc_bbox = (x1, y1, x2, y2)\n",
    "                plot_one_box(voc_bbox, \n",
    "                             image,\n",
    "                             color = color,\n",
    "                             label = cls if class_name else str(cls_id),\n",
    "                             line_thickness = line_thickness)\n",
    "    else:\n",
    "        raise ValueError('wrong bbox format')\n",
    "\n",
    "    return image\n",
    "\n",
    "def get_bbox(annots):\n",
    "    bboxes = [list(annot.values()) for annot in annots]\n",
    "    return bboxes\n",
    "\n",
    "def get_imgsize(row):\n",
    "    row['width'], row['height'] = imagesize.get(row['image_path'])\n",
    "    return row"
   ]
  },
  {
   "cell_type": "code",
   "execution_count": 7,
   "id": "4093d37e",
   "metadata": {
    "execution": {
     "iopub.execute_input": "2022-02-11T02:44:23.620327Z",
     "iopub.status.busy": "2022-02-11T02:44:23.614730Z",
     "iopub.status.idle": "2022-02-11T02:44:23.622576Z",
     "shell.execute_reply": "2022-02-11T02:44:23.622173Z",
     "shell.execute_reply.started": "2022-01-14T06:13:07.825586Z"
    },
    "papermill": {
     "duration": 0.028672,
     "end_time": "2022-02-11T02:44:23.622684",
     "exception": false,
     "start_time": "2022-02-11T02:44:23.594012",
     "status": "completed"
    },
    "tags": []
   },
   "outputs": [],
   "source": [
    "def predict(model, img, size=768, augment=False):\n",
    "    height, width = img.shape[:2]\n",
    "    results = model(img, size=size, augment=augment)  # custom inference size\n",
    "    preds   = results.pandas().xyxy[0]\n",
    "    bboxes  = preds[['xmin','ymin','xmax','ymax']].values\n",
    "    if len(bboxes):\n",
    "        bboxes  = voc2coco(bboxes,height,width).astype(int)\n",
    "        confs   = preds.confidence.values\n",
    "        return bboxes, confs\n",
    "    else:\n",
    "        return [],[]\n",
    "    \n",
    "def format_prediction(bboxes, confs):\n",
    "    annot = ''\n",
    "    if len(bboxes)>0:\n",
    "        for idx in range(len(bboxes)):\n",
    "            xmin, ymin, w, h = bboxes[idx]\n",
    "            conf             = confs[idx]\n",
    "            annot += f'{conf} {xmin} {ymin} {w} {h}'\n",
    "            annot +=' '\n",
    "        annot = annot.strip(' ')\n",
    "    return annot\n",
    "\n",
    "# def show_img(img, bboxes, bbox_format='yolo'):\n",
    "#     names  = ['starfish']*len(bboxes)\n",
    "#     labels = [0]*len(bboxes)\n",
    "#     img    = draw_bboxes(img = img,\n",
    "#                            bboxes = bboxes, \n",
    "#                            classes = names,\n",
    "#                            class_ids = labels,\n",
    "#                            class_name = True, \n",
    "#                            colors = colors, \n",
    "#                            bbox_format = bbox_format,\n",
    "#                            line_thickness = 2)\n",
    "#     return Image.fromarray(img).resize((800, 400))"
   ]
  },
  {
   "cell_type": "code",
   "execution_count": 8,
   "id": "6d0b5502",
   "metadata": {
    "execution": {
     "iopub.execute_input": "2022-02-11T02:44:23.665033Z",
     "iopub.status.busy": "2022-02-11T02:44:23.664315Z",
     "iopub.status.idle": "2022-02-11T02:44:23.666735Z",
     "shell.execute_reply": "2022-02-11T02:44:23.666328Z",
     "shell.execute_reply.started": "2022-01-14T06:13:07.838394Z"
    },
    "papermill": {
     "duration": 0.026431,
     "end_time": "2022-02-11T02:44:23.666860",
     "exception": false,
     "start_time": "2022-02-11T02:44:23.640429",
     "status": "completed"
    },
    "tags": []
   },
   "outputs": [],
   "source": [
    "##############################################################\n",
    "#                      Tracking helpers                      #\n",
    "##############################################################\n",
    "\n",
    "import numpy as np\n",
    "from norfair import Detection, Tracker\n",
    "\n",
    "# Helper to convert bbox in format [x_min, y_min, x_max, y_max, score] to norfair.Detection class\n",
    "def to_norfair(detects, frame_id):\n",
    "    result = []\n",
    "    for x_min, y_min, x_max, y_max, score in detects:\n",
    "        xc, yc = (x_min + x_max) / 2, (y_min + y_max) / 2\n",
    "        w, h = x_max - x_min, y_max - y_min\n",
    "        result.append(Detection(points=np.array([xc, yc]), scores=np.array([score]), data=np.array([w, h, frame_id])))\n",
    "        \n",
    "    return result\n",
    "\n",
    "# Euclidean distance function to match detections on this frame with tracked_objects from previous frames\n",
    "def euclidean_distance(detection, tracked_object):\n",
    "    return np.linalg.norm(detection.points - tracked_object.estimate)"
   ]
  },
  {
   "cell_type": "code",
   "execution_count": 9,
   "id": "799f4345",
   "metadata": {
    "execution": {
     "iopub.execute_input": "2022-02-11T02:44:23.711988Z",
     "iopub.status.busy": "2022-02-11T02:44:23.711414Z",
     "iopub.status.idle": "2022-02-11T02:44:23.714882Z",
     "shell.execute_reply": "2022-02-11T02:44:23.714458Z",
     "shell.execute_reply.started": "2022-01-14T06:13:07.851194Z"
    },
    "papermill": {
     "duration": 0.030398,
     "end_time": "2022-02-11T02:44:23.714999",
     "exception": false,
     "start_time": "2022-02-11T02:44:23.684601",
     "status": "completed"
    },
    "tags": []
   },
   "outputs": [],
   "source": [
    "def tracking_function(tracker, frame_id, bboxes, scores):\n",
    "    \n",
    "    detects = []\n",
    "    predictions = []\n",
    "    \n",
    "    if len(scores)>0:\n",
    "        for i in range(len(bboxes)):\n",
    "            box = bboxes[i]\n",
    "            score = scores[i]\n",
    "            x_min = int(box[0])\n",
    "            y_min = int(box[1])\n",
    "            bbox_width = int(box[2])\n",
    "            bbox_height = int(box[3])\n",
    "            detects.append([x_min, y_min, x_min+bbox_width, y_min+bbox_height, score])\n",
    "            predictions.append('{:.2f} {} {} {} {}'.format(score, x_min, y_min, bbox_width, bbox_height))\n",
    "#             print(predictions[:-1])\n",
    "    # Update tracks using detects from current frame\n",
    "    tracked_objects = tracker.update(detections=to_norfair(detects, frame_id))\n",
    "    for tobj in tracked_objects:\n",
    "        bbox_width, bbox_height, last_detected_frame_id = tobj.last_detection.data\n",
    "        if last_detected_frame_id == frame_id:  # Skip objects that were detected on current frame\n",
    "            continue\n",
    "        # Add objects that have no detections on current frame to predictions\n",
    "        xc, yc = tobj.estimate[0]\n",
    "        x_min, y_min = int(round(xc - bbox_width / 2)), int(round(yc - bbox_height / 2))\n",
    "        score = tobj.last_detection.scores[0]\n",
    "\n",
    "        predictions.append('{:.2f} {} {} {} {}'.format(score, x_min, y_min, bbox_width, bbox_height))\n",
    "        \n",
    "    return predictions"
   ]
  },
  {
   "cell_type": "code",
   "execution_count": 10,
   "id": "1c755928",
   "metadata": {
    "execution": {
     "iopub.execute_input": "2022-02-11T02:44:23.754893Z",
     "iopub.status.busy": "2022-02-11T02:44:23.754309Z",
     "iopub.status.idle": "2022-02-11T02:44:23.774972Z",
     "shell.execute_reply": "2022-02-11T02:44:23.774461Z",
     "shell.execute_reply.started": "2022-01-14T06:13:07.86632Z"
    },
    "papermill": {
     "duration": 0.042371,
     "end_time": "2022-02-11T02:44:23.775131",
     "exception": false,
     "start_time": "2022-02-11T02:44:23.732760",
     "status": "completed"
    },
    "tags": []
   },
   "outputs": [],
   "source": [
    "import greatbarrierreef\n",
    "env = greatbarrierreef.make_env()# initialize the environment\n",
    "iter_test = env.iter_test()      # an iterator which loops over the test set and sample submission"
   ]
  },
  {
   "cell_type": "code",
   "execution_count": 11,
   "id": "68496bde",
   "metadata": {
    "execution": {
     "iopub.execute_input": "2022-02-11T02:44:23.816794Z",
     "iopub.status.busy": "2022-02-11T02:44:23.816237Z",
     "iopub.status.idle": "2022-02-11T02:44:28.680243Z",
     "shell.execute_reply": "2022-02-11T02:44:28.679774Z",
     "shell.execute_reply.started": "2022-01-14T06:13:07.897284Z"
    },
    "papermill": {
     "duration": 4.88585,
     "end_time": "2022-02-11T02:44:28.680368",
     "exception": false,
     "start_time": "2022-02-11T02:44:23.794518",
     "status": "completed"
    },
    "tags": []
   },
   "outputs": [
    {
     "name": "stderr",
     "output_type": "stream",
     "text": [
      "YOLOv5 🚀 2022-2-5 torch 1.9.1 CUDA:0 (Tesla P100-PCIE-16GB, 16281MiB)\n",
      "\n",
      "Fusing layers... \n",
      "Model Summary: 280 layers, 12308200 parameters, 0 gradients\n",
      "Adding AutoShape... \n"
     ]
    }
   ],
   "source": [
    "model = torch.hub.load('../input/yolov5-lib-ds', \n",
    "                       'custom', \n",
    "                       #path='../input/cv451-yolov5s6-dim4500-train9val1/best.pt',\n",
    "                       path='../input/vc394-yolov5s6-dim4500-tr95vl05/best.pt',\n",
    "                       \n",
    "#                        path='../input/yolos-video-fold/2022_yolos_3600_f1_best.pt',\n",
    "                       source='local',\n",
    "                       force_reload=True)  # local repo\n",
    "model.conf = CONF"
   ]
  },
  {
   "cell_type": "code",
   "execution_count": 12,
   "id": "77dd2347",
   "metadata": {
    "execution": {
     "iopub.execute_input": "2022-02-11T02:44:28.726424Z",
     "iopub.status.busy": "2022-02-11T02:44:28.725605Z",
     "iopub.status.idle": "2022-02-11T02:44:37.029848Z",
     "shell.execute_reply": "2022-02-11T02:44:37.030286Z",
     "shell.execute_reply.started": "2022-01-14T06:13:13.452435Z"
    },
    "papermill": {
     "duration": 8.330509,
     "end_time": "2022-02-11T02:44:37.030435",
     "exception": false,
     "start_time": "2022-02-11T02:44:28.699926",
     "status": "completed"
    },
    "tags": []
   },
   "outputs": [
    {
     "data": {
      "application/vnd.jupyter.widget-view+json": {
       "model_id": "fb03727e658941d8a1de0a8344f0fe84",
       "version_major": 2,
       "version_minor": 0
      },
      "text/plain": [
       "0it [00:00, ?it/s]"
      ]
     },
     "metadata": {},
     "output_type": "display_data"
    },
    {
     "name": "stdout",
     "output_type": "stream",
     "text": [
      "This version of the API is not optimized and should not be used to estimate the runtime of your code on the hidden test set.\n"
     ]
    }
   ],
   "source": [
    "tracker = Tracker(\n",
    "    distance_function=euclidean_distance, \n",
    "    distance_threshold=30,\n",
    "    hit_inertia_min=3,\n",
    "    hit_inertia_max=6,\n",
    "    initialization_delay=1,\n",
    ")\n",
    "\n",
    "frame_id =0\n",
    "for idx, (img, pred_df) in enumerate(tqdm(iter_test)):\n",
    "    if FDA_aug:\n",
    "        img = FDA_trans(image=img)['image']\n",
    "    bboxes, confs  = predict(model, img, size=IMG_SIZE, augment=AUGMENT)\n",
    "\n",
    "    predictions = tracking_function(tracker, frame_id, bboxes, confs)\n",
    "    \n",
    "    prediction_str = ' '.join(predictions)\n",
    "    pred_df['annotations'] = prediction_str\n",
    "    env.predict(pred_df)\n",
    "#     if frame_id < 3:\n",
    "#         if len(predict_box)>0:\n",
    "#             box = [list(map(int,box.split(' ')[1:])) for box in predictions]\n",
    "#         else:\n",
    "#             box = []\n",
    "#         display(show_img(img, box, bbox_format='coco'))\n",
    "#     print('Prediction:', pred_df)\n",
    "    frame_id += 1\n"
   ]
  },
  {
   "cell_type": "code",
   "execution_count": 13,
   "id": "a35d3f7d",
   "metadata": {
    "execution": {
     "iopub.execute_input": "2022-02-11T02:44:37.078154Z",
     "iopub.status.busy": "2022-02-11T02:44:37.077604Z",
     "iopub.status.idle": "2022-02-11T02:44:37.089182Z",
     "shell.execute_reply": "2022-02-11T02:44:37.088405Z",
     "shell.execute_reply.started": "2022-01-14T06:13:18.838498Z"
    },
    "papermill": {
     "duration": 0.038111,
     "end_time": "2022-02-11T02:44:37.089299",
     "exception": false,
     "start_time": "2022-02-11T02:44:37.051188",
     "status": "completed"
    },
    "tags": []
   },
   "outputs": [
    {
     "data": {
      "text/html": [
       "<div>\n",
       "<style scoped>\n",
       "    .dataframe tbody tr th:only-of-type {\n",
       "        vertical-align: middle;\n",
       "    }\n",
       "\n",
       "    .dataframe tbody tr th {\n",
       "        vertical-align: top;\n",
       "    }\n",
       "\n",
       "    .dataframe thead th {\n",
       "        text-align: right;\n",
       "    }\n",
       "</style>\n",
       "<table border=\"1\" class=\"dataframe\">\n",
       "  <thead>\n",
       "    <tr style=\"text-align: right;\">\n",
       "      <th></th>\n",
       "      <th>index</th>\n",
       "      <th>annotations</th>\n",
       "    </tr>\n",
       "  </thead>\n",
       "  <tbody>\n",
       "    <tr>\n",
       "      <th>0</th>\n",
       "      <td>0</td>\n",
       "      <td>NaN</td>\n",
       "    </tr>\n",
       "    <tr>\n",
       "      <th>1</th>\n",
       "      <td>1</td>\n",
       "      <td>NaN</td>\n",
       "    </tr>\n",
       "    <tr>\n",
       "      <th>2</th>\n",
       "      <td>2</td>\n",
       "      <td>NaN</td>\n",
       "    </tr>\n",
       "  </tbody>\n",
       "</table>\n",
       "</div>"
      ],
      "text/plain": [
       "   index  annotations\n",
       "0      0          NaN\n",
       "1      1          NaN\n",
       "2      2          NaN"
      ]
     },
     "execution_count": 13,
     "metadata": {},
     "output_type": "execute_result"
    }
   ],
   "source": [
    "sub_df = pd.read_csv('submission.csv')\n",
    "sub_df.head()"
   ]
  },
  {
   "cell_type": "code",
   "execution_count": null,
   "id": "dabf420f",
   "metadata": {
    "papermill": {
     "duration": 0.019917,
     "end_time": "2022-02-11T02:44:37.129162",
     "exception": false,
     "start_time": "2022-02-11T02:44:37.109245",
     "status": "completed"
    },
    "tags": []
   },
   "outputs": [],
   "source": []
  }
 ],
 "metadata": {
  "kernelspec": {
   "display_name": "Python 3",
   "language": "python",
   "name": "python3"
  },
  "language_info": {
   "codemirror_mode": {
    "name": "ipython",
    "version": 3
   },
   "file_extension": ".py",
   "mimetype": "text/x-python",
   "name": "python",
   "nbconvert_exporter": "python",
   "pygments_lexer": "ipython3",
   "version": "3.7.12"
  },
  "papermill": {
   "default_parameters": {},
   "duration": 104.415422,
   "end_time": "2022-02-11T02:44:39.368113",
   "environment_variables": {},
   "exception": null,
   "input_path": "__notebook__.ipynb",
   "output_path": "__notebook__.ipynb",
   "parameters": {},
   "start_time": "2022-02-11T02:42:54.952691",
   "version": "2.3.3"
  },
  "widgets": {
   "application/vnd.jupyter.widget-state+json": {
    "state": {
     "0e224e50db2242fe91598879ca2eb4e9": {
      "model_module": "@jupyter-widgets/controls",
      "model_module_version": "1.5.0",
      "model_name": "FloatProgressModel",
      "state": {
       "_dom_classes": [],
       "_model_module": "@jupyter-widgets/controls",
       "_model_module_version": "1.5.0",
       "_model_name": "FloatProgressModel",
       "_view_count": null,
       "_view_module": "@jupyter-widgets/controls",
       "_view_module_version": "1.5.0",
       "_view_name": "ProgressView",
       "bar_style": "success",
       "description": "",
       "description_tooltip": null,
       "layout": "IPY_MODEL_3661e68e1f5e4add99ee0eb4cbf66a48",
       "max": 1,
       "min": 0,
       "orientation": "horizontal",
       "style": "IPY_MODEL_23aa547a99cd45f6b24064e7c00ee174",
       "value": 1
      }
     },
     "23aa547a99cd45f6b24064e7c00ee174": {
      "model_module": "@jupyter-widgets/controls",
      "model_module_version": "1.5.0",
      "model_name": "ProgressStyleModel",
      "state": {
       "_model_module": "@jupyter-widgets/controls",
       "_model_module_version": "1.5.0",
       "_model_name": "ProgressStyleModel",
       "_view_count": null,
       "_view_module": "@jupyter-widgets/base",
       "_view_module_version": "1.2.0",
       "_view_name": "StyleView",
       "bar_color": null,
       "description_width": ""
      }
     },
     "343d1cc0974f4076ab040a67f338e123": {
      "model_module": "@jupyter-widgets/base",
      "model_module_version": "1.2.0",
      "model_name": "LayoutModel",
      "state": {
       "_model_module": "@jupyter-widgets/base",
       "_model_module_version": "1.2.0",
       "_model_name": "LayoutModel",
       "_view_count": null,
       "_view_module": "@jupyter-widgets/base",
       "_view_module_version": "1.2.0",
       "_view_name": "LayoutView",
       "align_content": null,
       "align_items": null,
       "align_self": null,
       "border": null,
       "bottom": null,
       "display": null,
       "flex": null,
       "flex_flow": null,
       "grid_area": null,
       "grid_auto_columns": null,
       "grid_auto_flow": null,
       "grid_auto_rows": null,
       "grid_column": null,
       "grid_gap": null,
       "grid_row": null,
       "grid_template_areas": null,
       "grid_template_columns": null,
       "grid_template_rows": null,
       "height": null,
       "justify_content": null,
       "justify_items": null,
       "left": null,
       "margin": null,
       "max_height": null,
       "max_width": null,
       "min_height": null,
       "min_width": null,
       "object_fit": null,
       "object_position": null,
       "order": null,
       "overflow": null,
       "overflow_x": null,
       "overflow_y": null,
       "padding": null,
       "right": null,
       "top": null,
       "visibility": null,
       "width": null
      }
     },
     "3661e68e1f5e4add99ee0eb4cbf66a48": {
      "model_module": "@jupyter-widgets/base",
      "model_module_version": "1.2.0",
      "model_name": "LayoutModel",
      "state": {
       "_model_module": "@jupyter-widgets/base",
       "_model_module_version": "1.2.0",
       "_model_name": "LayoutModel",
       "_view_count": null,
       "_view_module": "@jupyter-widgets/base",
       "_view_module_version": "1.2.0",
       "_view_name": "LayoutView",
       "align_content": null,
       "align_items": null,
       "align_self": null,
       "border": null,
       "bottom": null,
       "display": null,
       "flex": null,
       "flex_flow": null,
       "grid_area": null,
       "grid_auto_columns": null,
       "grid_auto_flow": null,
       "grid_auto_rows": null,
       "grid_column": null,
       "grid_gap": null,
       "grid_row": null,
       "grid_template_areas": null,
       "grid_template_columns": null,
       "grid_template_rows": null,
       "height": null,
       "justify_content": null,
       "justify_items": null,
       "left": null,
       "margin": null,
       "max_height": null,
       "max_width": null,
       "min_height": null,
       "min_width": null,
       "object_fit": null,
       "object_position": null,
       "order": null,
       "overflow": null,
       "overflow_x": null,
       "overflow_y": null,
       "padding": null,
       "right": null,
       "top": null,
       "visibility": null,
       "width": "20px"
      }
     },
     "468af480e65a4e07a5cd6d57ceb7ad40": {
      "model_module": "@jupyter-widgets/base",
      "model_module_version": "1.2.0",
      "model_name": "LayoutModel",
      "state": {
       "_model_module": "@jupyter-widgets/base",
       "_model_module_version": "1.2.0",
       "_model_name": "LayoutModel",
       "_view_count": null,
       "_view_module": "@jupyter-widgets/base",
       "_view_module_version": "1.2.0",
       "_view_name": "LayoutView",
       "align_content": null,
       "align_items": null,
       "align_self": null,
       "border": null,
       "bottom": null,
       "display": null,
       "flex": null,
       "flex_flow": null,
       "grid_area": null,
       "grid_auto_columns": null,
       "grid_auto_flow": null,
       "grid_auto_rows": null,
       "grid_column": null,
       "grid_gap": null,
       "grid_row": null,
       "grid_template_areas": null,
       "grid_template_columns": null,
       "grid_template_rows": null,
       "height": null,
       "justify_content": null,
       "justify_items": null,
       "left": null,
       "margin": null,
       "max_height": null,
       "max_width": null,
       "min_height": null,
       "min_width": null,
       "object_fit": null,
       "object_position": null,
       "order": null,
       "overflow": null,
       "overflow_x": null,
       "overflow_y": null,
       "padding": null,
       "right": null,
       "top": null,
       "visibility": null,
       "width": null
      }
     },
     "9d4fa8e43a084608938a44cb16ed1513": {
      "model_module": "@jupyter-widgets/controls",
      "model_module_version": "1.5.0",
      "model_name": "HTMLModel",
      "state": {
       "_dom_classes": [],
       "_model_module": "@jupyter-widgets/controls",
       "_model_module_version": "1.5.0",
       "_model_name": "HTMLModel",
       "_view_count": null,
       "_view_module": "@jupyter-widgets/controls",
       "_view_module_version": "1.5.0",
       "_view_name": "HTMLView",
       "description": "",
       "description_tooltip": null,
       "layout": "IPY_MODEL_343d1cc0974f4076ab040a67f338e123",
       "placeholder": "​",
       "style": "IPY_MODEL_a772a458eeea4aa5a61abe274ea16941",
       "value": ""
      }
     },
     "a772a458eeea4aa5a61abe274ea16941": {
      "model_module": "@jupyter-widgets/controls",
      "model_module_version": "1.5.0",
      "model_name": "DescriptionStyleModel",
      "state": {
       "_model_module": "@jupyter-widgets/controls",
       "_model_module_version": "1.5.0",
       "_model_name": "DescriptionStyleModel",
       "_view_count": null,
       "_view_module": "@jupyter-widgets/base",
       "_view_module_version": "1.2.0",
       "_view_name": "StyleView",
       "description_width": ""
      }
     },
     "b48b4e3a1d874d24a62287c2460d8f1e": {
      "model_module": "@jupyter-widgets/base",
      "model_module_version": "1.2.0",
      "model_name": "LayoutModel",
      "state": {
       "_model_module": "@jupyter-widgets/base",
       "_model_module_version": "1.2.0",
       "_model_name": "LayoutModel",
       "_view_count": null,
       "_view_module": "@jupyter-widgets/base",
       "_view_module_version": "1.2.0",
       "_view_name": "LayoutView",
       "align_content": null,
       "align_items": null,
       "align_self": null,
       "border": null,
       "bottom": null,
       "display": null,
       "flex": null,
       "flex_flow": null,
       "grid_area": null,
       "grid_auto_columns": null,
       "grid_auto_flow": null,
       "grid_auto_rows": null,
       "grid_column": null,
       "grid_gap": null,
       "grid_row": null,
       "grid_template_areas": null,
       "grid_template_columns": null,
       "grid_template_rows": null,
       "height": null,
       "justify_content": null,
       "justify_items": null,
       "left": null,
       "margin": null,
       "max_height": null,
       "max_width": null,
       "min_height": null,
       "min_width": null,
       "object_fit": null,
       "object_position": null,
       "order": null,
       "overflow": null,
       "overflow_x": null,
       "overflow_y": null,
       "padding": null,
       "right": null,
       "top": null,
       "visibility": null,
       "width": null
      }
     },
     "c2b6e551897d47f99c56f6d1d9159b00": {
      "model_module": "@jupyter-widgets/controls",
      "model_module_version": "1.5.0",
      "model_name": "DescriptionStyleModel",
      "state": {
       "_model_module": "@jupyter-widgets/controls",
       "_model_module_version": "1.5.0",
       "_model_name": "DescriptionStyleModel",
       "_view_count": null,
       "_view_module": "@jupyter-widgets/base",
       "_view_module_version": "1.2.0",
       "_view_name": "StyleView",
       "description_width": ""
      }
     },
     "e03cd5f55b4f45899b69cb863480ab0f": {
      "model_module": "@jupyter-widgets/controls",
      "model_module_version": "1.5.0",
      "model_name": "HTMLModel",
      "state": {
       "_dom_classes": [],
       "_model_module": "@jupyter-widgets/controls",
       "_model_module_version": "1.5.0",
       "_model_name": "HTMLModel",
       "_view_count": null,
       "_view_module": "@jupyter-widgets/controls",
       "_view_module_version": "1.5.0",
       "_view_name": "HTMLView",
       "description": "",
       "description_tooltip": null,
       "layout": "IPY_MODEL_b48b4e3a1d874d24a62287c2460d8f1e",
       "placeholder": "​",
       "style": "IPY_MODEL_c2b6e551897d47f99c56f6d1d9159b00",
       "value": " 3/? [00:08&lt;00:00,  2.20s/it]"
      }
     },
     "fb03727e658941d8a1de0a8344f0fe84": {
      "model_module": "@jupyter-widgets/controls",
      "model_module_version": "1.5.0",
      "model_name": "HBoxModel",
      "state": {
       "_dom_classes": [],
       "_model_module": "@jupyter-widgets/controls",
       "_model_module_version": "1.5.0",
       "_model_name": "HBoxModel",
       "_view_count": null,
       "_view_module": "@jupyter-widgets/controls",
       "_view_module_version": "1.5.0",
       "_view_name": "HBoxView",
       "box_style": "",
       "children": [
        "IPY_MODEL_9d4fa8e43a084608938a44cb16ed1513",
        "IPY_MODEL_0e224e50db2242fe91598879ca2eb4e9",
        "IPY_MODEL_e03cd5f55b4f45899b69cb863480ab0f"
       ],
       "layout": "IPY_MODEL_468af480e65a4e07a5cd6d57ceb7ad40"
      }
     }
    },
    "version_major": 2,
    "version_minor": 0
   }
  }
 },
 "nbformat": 4,
 "nbformat_minor": 5
}
